{
 "cells": [
  {
   "cell_type": "markdown",
   "id": "5baad148",
   "metadata": {},
   "source": [
    "## **Client: ABC Tech | Category: ITSM - ML Project Ref: PM-PR-0012**"
   ]
  },
  {
   "cell_type": "markdown",
   "id": "1876ce3d",
   "metadata": {},
   "source": [
    "About the dataset:\n",
    "             -The data set is about the ticket or incident management of the company ABC TECH Management. This data set has 25 columns, all of which are 'object' datatypes. Most of these 25 columns are categorical, and some of them are date and time."
   ]
  },
  {
   "cell_type": "markdown",
   "id": "4a7ad9de",
   "metadata": {},
   "source": [
    "## DATA PREPARATION-IMPORTING NECESSARY LIBRARIES"
   ]
  },
  {
   "cell_type": "code",
   "execution_count": 1,
   "id": "e9920a48",
   "metadata": {},
   "outputs": [],
   "source": [
    "# Importing the necessary libraries\n",
    "\n",
    "# Pandas for data manipulation\n",
    "import pandas as pd\n",
    "\n",
    "# NumPy for numerical operations\n",
    "import numpy as np\n",
    "\n",
    "# Datetime for working with date and time\n",
    "import datetime as dt\n",
    "\n",
    "# Matplotlib for creating plots\n",
    "import matplotlib.pyplot as plt\n",
    "\n",
    "# Warnings to suppress warning messages\n",
    "import warnings\n",
    "warnings.filterwarnings('ignore')\n",
    "\n",
    "# MySQL connector libraries\n",
    "import mysql.connector\n",
    "import pymysql\n"
   ]
  },
  {
   "cell_type": "markdown",
   "id": "bb83afff",
   "metadata": {},
   "source": [
    "# Run this cell if necessary; if libraries are not installed."
   ]
  },
  {
   "cell_type": "code",
   "execution_count": null,
   "id": "0e4d84a3",
   "metadata": {},
   "outputs": [],
   "source": [
    "# Install the PyMySQL package\n",
    "! pip install PyMySQL\n",
    "\n",
    "# Install the ipython-sql package\n",
    "! pip install ipython-sql\n",
    "\n",
    "# Install the mysqlclient package\n",
    "! pip install mysqlclient\n",
    "\n",
    "# Install the mysql-connector-python package\n",
    "! pip install mysql-connector-python\n",
    "\n",
    "# Install the pymysql package\n",
    "! pip install pymysql\n"
   ]
  },
  {
   "cell_type": "markdown",
   "id": "f56a202b",
   "metadata": {},
   "source": [
    "## Importing raw data into a data frame from MySQL database"
   ]
  },
  {
   "cell_type": "code",
   "execution_count": 2,
   "id": "8d337e5a",
   "metadata": {},
   "outputs": [
    {
     "name": "stdout",
     "output_type": "stream",
     "text": [
      "('dataset_list',)\n"
     ]
    }
   ],
   "source": [
    "# Establish a connection to the MySQL database\n",
    "mydb = mysql.connector.connect(\n",
    "    host=\"18.136.157.135\",\n",
    "    user=\"dm_team\",\n",
    "    password=\"DM!$Team@&27920!\",\n",
    "    database=\"project_itsm\"\n",
    ")\n",
    "\n",
    "# Create a cursor\n",
    "mycursor = mydb.cursor()\n",
    "\n",
    "# Execute the SQL query to show table names\n",
    "mycursor.execute(\"SHOW TABLES;\")\n",
    "\n",
    "# Fetch the results\n",
    "myresult = mycursor.fetchall()\n",
    "\n",
    "# Print the table names\n",
    "for x in myresult:\n",
    "    print(x)\n"
   ]
  },
  {
   "cell_type": "code",
   "execution_count": 3,
   "id": "c28c22e8",
   "metadata": {},
   "outputs": [],
   "source": [
    "# Execute SQL query to select all data from the \"dataset_list\" table and read it into a DataFrame\n",
    "sql = \"SELECT * FROM dataset_list\"\n",
    "df = pd.read_sql(sql, mydb)\n"
   ]
  },
  {
   "cell_type": "markdown",
   "id": "9eced1d1",
   "metadata": {},
   "source": [
    "# Exploratory Data Analysis on the data set"
   ]
  },
  {
   "cell_type": "markdown",
   "id": "f8858372",
   "metadata": {},
   "source": [
    "# Basic insights of the data "
   ]
  },
  {
   "cell_type": "code",
   "execution_count": 4,
   "id": "7e581d52",
   "metadata": {},
   "outputs": [
    {
     "data": {
      "text/html": [
       "<div>\n",
       "<style scoped>\n",
       "    .dataframe tbody tr th:only-of-type {\n",
       "        vertical-align: middle;\n",
       "    }\n",
       "\n",
       "    .dataframe tbody tr th {\n",
       "        vertical-align: top;\n",
       "    }\n",
       "\n",
       "    .dataframe thead th {\n",
       "        text-align: right;\n",
       "    }\n",
       "</style>\n",
       "<table border=\"1\" class=\"dataframe\">\n",
       "  <thead>\n",
       "    <tr style=\"text-align: right;\">\n",
       "      <th></th>\n",
       "      <th>CI_Name</th>\n",
       "      <th>CI_Cat</th>\n",
       "      <th>CI_Subcat</th>\n",
       "      <th>WBS</th>\n",
       "      <th>Incident_ID</th>\n",
       "      <th>Status</th>\n",
       "      <th>Impact</th>\n",
       "      <th>Urgency</th>\n",
       "      <th>Priority</th>\n",
       "      <th>number_cnt</th>\n",
       "      <th>...</th>\n",
       "      <th>Reopen_Time</th>\n",
       "      <th>Resolved_Time</th>\n",
       "      <th>Close_Time</th>\n",
       "      <th>Handle_Time_hrs</th>\n",
       "      <th>Closure_Code</th>\n",
       "      <th>No_of_Related_Interactions</th>\n",
       "      <th>Related_Interaction</th>\n",
       "      <th>No_of_Related_Incidents</th>\n",
       "      <th>No_of_Related_Changes</th>\n",
       "      <th>Related_Change</th>\n",
       "    </tr>\n",
       "  </thead>\n",
       "  <tbody>\n",
       "    <tr>\n",
       "      <th>0</th>\n",
       "      <td>SUB000508</td>\n",
       "      <td>subapplication</td>\n",
       "      <td>Web Based Application</td>\n",
       "      <td>WBS000162</td>\n",
       "      <td>IM0000004</td>\n",
       "      <td>Closed</td>\n",
       "      <td>4</td>\n",
       "      <td>4</td>\n",
       "      <td>4</td>\n",
       "      <td>0.601292279</td>\n",
       "      <td>...</td>\n",
       "      <td></td>\n",
       "      <td>04-11-2013 13:50</td>\n",
       "      <td>04-11-2013 13:51</td>\n",
       "      <td>3,87,16,91,111</td>\n",
       "      <td>Other</td>\n",
       "      <td>1</td>\n",
       "      <td>SD0000007</td>\n",
       "      <td>2</td>\n",
       "      <td></td>\n",
       "      <td></td>\n",
       "    </tr>\n",
       "    <tr>\n",
       "      <th>1</th>\n",
       "      <td>WBA000124</td>\n",
       "      <td>application</td>\n",
       "      <td>Web Based Application</td>\n",
       "      <td>WBS000088</td>\n",
       "      <td>IM0000005</td>\n",
       "      <td>Closed</td>\n",
       "      <td>3</td>\n",
       "      <td>3</td>\n",
       "      <td>3</td>\n",
       "      <td>0.415049969</td>\n",
       "      <td>...</td>\n",
       "      <td>02-12-2013 12:31</td>\n",
       "      <td>02-12-2013 12:36</td>\n",
       "      <td>02-12-2013 12:36</td>\n",
       "      <td>4,35,47,86,389</td>\n",
       "      <td>Software</td>\n",
       "      <td>1</td>\n",
       "      <td>SD0000011</td>\n",
       "      <td>1</td>\n",
       "      <td></td>\n",
       "      <td></td>\n",
       "    </tr>\n",
       "    <tr>\n",
       "      <th>2</th>\n",
       "      <td>DTA000024</td>\n",
       "      <td>application</td>\n",
       "      <td>Desktop Application</td>\n",
       "      <td>WBS000092</td>\n",
       "      <td>IM0000006</td>\n",
       "      <td>Closed</td>\n",
       "      <td>NS</td>\n",
       "      <td>3</td>\n",
       "      <td>NA</td>\n",
       "      <td>0.517551335</td>\n",
       "      <td>...</td>\n",
       "      <td></td>\n",
       "      <td>13-01-2014 15:12</td>\n",
       "      <td>13-01-2014 15:13</td>\n",
       "      <td>4,84,31,19,444</td>\n",
       "      <td>No error - works as designed</td>\n",
       "      <td>1</td>\n",
       "      <td>SD0000017</td>\n",
       "      <td></td>\n",
       "      <td></td>\n",
       "      <td></td>\n",
       "    </tr>\n",
       "    <tr>\n",
       "      <th>3</th>\n",
       "      <td>WBA000124</td>\n",
       "      <td>application</td>\n",
       "      <td>Web Based Application</td>\n",
       "      <td>WBS000088</td>\n",
       "      <td>IM0000011</td>\n",
       "      <td>Closed</td>\n",
       "      <td>4</td>\n",
       "      <td>4</td>\n",
       "      <td>4</td>\n",
       "      <td>0.642927218</td>\n",
       "      <td>...</td>\n",
       "      <td></td>\n",
       "      <td>14-11-2013 09:31</td>\n",
       "      <td>14-11-2013 09:31</td>\n",
       "      <td>4,32,18,33,333</td>\n",
       "      <td>Operator error</td>\n",
       "      <td>1</td>\n",
       "      <td>SD0000025</td>\n",
       "      <td></td>\n",
       "      <td></td>\n",
       "      <td></td>\n",
       "    </tr>\n",
       "    <tr>\n",
       "      <th>4</th>\n",
       "      <td>WBA000124</td>\n",
       "      <td>application</td>\n",
       "      <td>Web Based Application</td>\n",
       "      <td>WBS000088</td>\n",
       "      <td>IM0000012</td>\n",
       "      <td>Closed</td>\n",
       "      <td>4</td>\n",
       "      <td>4</td>\n",
       "      <td>4</td>\n",
       "      <td>0.345258343</td>\n",
       "      <td>...</td>\n",
       "      <td></td>\n",
       "      <td>08-11-2013 13:55</td>\n",
       "      <td>08-11-2013 13:55</td>\n",
       "      <td>3,38,39,03,333</td>\n",
       "      <td>Other</td>\n",
       "      <td>1</td>\n",
       "      <td>SD0000029</td>\n",
       "      <td></td>\n",
       "      <td></td>\n",
       "      <td></td>\n",
       "    </tr>\n",
       "  </tbody>\n",
       "</table>\n",
       "<p>5 rows × 25 columns</p>\n",
       "</div>"
      ],
      "text/plain": [
       "     CI_Name          CI_Cat              CI_Subcat        WBS Incident_ID  \\\n",
       "0  SUB000508  subapplication  Web Based Application  WBS000162   IM0000004   \n",
       "1  WBA000124     application  Web Based Application  WBS000088   IM0000005   \n",
       "2  DTA000024     application    Desktop Application  WBS000092   IM0000006   \n",
       "3  WBA000124     application  Web Based Application  WBS000088   IM0000011   \n",
       "4  WBA000124     application  Web Based Application  WBS000088   IM0000012   \n",
       "\n",
       "   Status Impact Urgency Priority   number_cnt  ...       Reopen_Time  \\\n",
       "0  Closed      4       4        4  0.601292279  ...                     \n",
       "1  Closed      3       3        3  0.415049969  ...  02-12-2013 12:31   \n",
       "2  Closed     NS       3       NA  0.517551335  ...                     \n",
       "3  Closed      4       4        4  0.642927218  ...                     \n",
       "4  Closed      4       4        4  0.345258343  ...                     \n",
       "\n",
       "      Resolved_Time        Close_Time Handle_Time_hrs  \\\n",
       "0  04-11-2013 13:50  04-11-2013 13:51  3,87,16,91,111   \n",
       "1  02-12-2013 12:36  02-12-2013 12:36  4,35,47,86,389   \n",
       "2  13-01-2014 15:12  13-01-2014 15:13  4,84,31,19,444   \n",
       "3  14-11-2013 09:31  14-11-2013 09:31  4,32,18,33,333   \n",
       "4  08-11-2013 13:55  08-11-2013 13:55  3,38,39,03,333   \n",
       "\n",
       "                   Closure_Code No_of_Related_Interactions  \\\n",
       "0                         Other                          1   \n",
       "1                      Software                          1   \n",
       "2  No error - works as designed                          1   \n",
       "3                Operator error                          1   \n",
       "4                         Other                          1   \n",
       "\n",
       "  Related_Interaction No_of_Related_Incidents No_of_Related_Changes  \\\n",
       "0           SD0000007                       2                         \n",
       "1           SD0000011                       1                         \n",
       "2           SD0000017                                                 \n",
       "3           SD0000025                                                 \n",
       "4           SD0000029                                                 \n",
       "\n",
       "  Related_Change  \n",
       "0                 \n",
       "1                 \n",
       "2                 \n",
       "3                 \n",
       "4                 \n",
       "\n",
       "[5 rows x 25 columns]"
      ]
     },
     "execution_count": 4,
     "metadata": {},
     "output_type": "execute_result"
    }
   ],
   "source": [
    "# Display the first 5 rows of the DataFrame \"df\"\n",
    "df.head(5)\n"
   ]
  },
  {
   "cell_type": "code",
   "execution_count": 5,
   "id": "2d1e4f66",
   "metadata": {},
   "outputs": [
    {
     "data": {
      "text/plain": [
       "(46606, 25)"
      ]
     },
     "execution_count": 5,
     "metadata": {},
     "output_type": "execute_result"
    }
   ],
   "source": [
    "# Retrieve the shape (number of rows and columns) of the DataFrame \"df\"\n",
    "df.shape"
   ]
  },
  {
   "cell_type": "code",
   "execution_count": 6,
   "id": "8c856053",
   "metadata": {},
   "outputs": [
    {
     "data": {
      "text/plain": [
       "Index(['CI_Name', 'CI_Cat', 'CI_Subcat', 'WBS', 'Incident_ID', 'Status',\n",
       "       'Impact', 'Urgency', 'Priority', 'number_cnt', 'Category', 'KB_number',\n",
       "       'Alert_Status', 'No_of_Reassignments', 'Open_Time', 'Reopen_Time',\n",
       "       'Resolved_Time', 'Close_Time', 'Handle_Time_hrs', 'Closure_Code',\n",
       "       'No_of_Related_Interactions', 'Related_Interaction',\n",
       "       'No_of_Related_Incidents', 'No_of_Related_Changes', 'Related_Change'],\n",
       "      dtype='object')"
      ]
     },
     "execution_count": 6,
     "metadata": {},
     "output_type": "execute_result"
    }
   ],
   "source": [
    "# Retrieve and display the column names of the DataFrame \"df\"\n",
    "df.columns"
   ]
  },
  {
   "cell_type": "code",
   "execution_count": 7,
   "id": "c30115bc",
   "metadata": {},
   "outputs": [
    {
     "name": "stdout",
     "output_type": "stream",
     "text": [
      "<class 'pandas.core.frame.DataFrame'>\n",
      "RangeIndex: 46606 entries, 0 to 46605\n",
      "Data columns (total 25 columns):\n",
      " #   Column                      Non-Null Count  Dtype \n",
      "---  ------                      --------------  ----- \n",
      " 0   CI_Name                     46606 non-null  object\n",
      " 1   CI_Cat                      46606 non-null  object\n",
      " 2   CI_Subcat                   46606 non-null  object\n",
      " 3   WBS                         46606 non-null  object\n",
      " 4   Incident_ID                 46606 non-null  object\n",
      " 5   Status                      46606 non-null  object\n",
      " 6   Impact                      46606 non-null  object\n",
      " 7   Urgency                     46606 non-null  object\n",
      " 8   Priority                    46606 non-null  object\n",
      " 9   number_cnt                  46606 non-null  object\n",
      " 10  Category                    46606 non-null  object\n",
      " 11  KB_number                   46606 non-null  object\n",
      " 12  Alert_Status                46606 non-null  object\n",
      " 13  No_of_Reassignments         46606 non-null  object\n",
      " 14  Open_Time                   46606 non-null  object\n",
      " 15  Reopen_Time                 46606 non-null  object\n",
      " 16  Resolved_Time               46606 non-null  object\n",
      " 17  Close_Time                  46606 non-null  object\n",
      " 18  Handle_Time_hrs             46606 non-null  object\n",
      " 19  Closure_Code                46606 non-null  object\n",
      " 20  No_of_Related_Interactions  46606 non-null  object\n",
      " 21  Related_Interaction         46606 non-null  object\n",
      " 22  No_of_Related_Incidents     46606 non-null  object\n",
      " 23  No_of_Related_Changes       46606 non-null  object\n",
      " 24  Related_Change              46606 non-null  object\n",
      "dtypes: object(25)\n",
      "memory usage: 8.9+ MB\n"
     ]
    }
   ],
   "source": [
    "# Looking for missing data\n",
    "df.info()"
   ]
  },
  {
   "cell_type": "code",
   "execution_count": 8,
   "id": "cb034a6a",
   "metadata": {},
   "outputs": [
    {
     "data": {
      "text/html": [
       "<div>\n",
       "<style scoped>\n",
       "    .dataframe tbody tr th:only-of-type {\n",
       "        vertical-align: middle;\n",
       "    }\n",
       "\n",
       "    .dataframe tbody tr th {\n",
       "        vertical-align: top;\n",
       "    }\n",
       "\n",
       "    .dataframe thead th {\n",
       "        text-align: right;\n",
       "    }\n",
       "</style>\n",
       "<table border=\"1\" class=\"dataframe\">\n",
       "  <thead>\n",
       "    <tr style=\"text-align: right;\">\n",
       "      <th></th>\n",
       "      <th>count</th>\n",
       "      <th>unique</th>\n",
       "      <th>top</th>\n",
       "      <th>freq</th>\n",
       "    </tr>\n",
       "  </thead>\n",
       "  <tbody>\n",
       "    <tr>\n",
       "      <th>CI_Name</th>\n",
       "      <td>46606</td>\n",
       "      <td>3019</td>\n",
       "      <td>SUB000456</td>\n",
       "      <td>3050</td>\n",
       "    </tr>\n",
       "    <tr>\n",
       "      <th>CI_Cat</th>\n",
       "      <td>46606</td>\n",
       "      <td>13</td>\n",
       "      <td>application</td>\n",
       "      <td>32900</td>\n",
       "    </tr>\n",
       "    <tr>\n",
       "      <th>CI_Subcat</th>\n",
       "      <td>46606</td>\n",
       "      <td>65</td>\n",
       "      <td>Server Based Application</td>\n",
       "      <td>18811</td>\n",
       "    </tr>\n",
       "    <tr>\n",
       "      <th>WBS</th>\n",
       "      <td>46606</td>\n",
       "      <td>274</td>\n",
       "      <td>WBS000073</td>\n",
       "      <td>13342</td>\n",
       "    </tr>\n",
       "    <tr>\n",
       "      <th>Incident_ID</th>\n",
       "      <td>46606</td>\n",
       "      <td>46606</td>\n",
       "      <td>IM0000004</td>\n",
       "      <td>1</td>\n",
       "    </tr>\n",
       "    <tr>\n",
       "      <th>Status</th>\n",
       "      <td>46606</td>\n",
       "      <td>2</td>\n",
       "      <td>Closed</td>\n",
       "      <td>46597</td>\n",
       "    </tr>\n",
       "    <tr>\n",
       "      <th>Impact</th>\n",
       "      <td>46606</td>\n",
       "      <td>6</td>\n",
       "      <td>4</td>\n",
       "      <td>22556</td>\n",
       "    </tr>\n",
       "    <tr>\n",
       "      <th>Urgency</th>\n",
       "      <td>46606</td>\n",
       "      <td>6</td>\n",
       "      <td>4</td>\n",
       "      <td>22588</td>\n",
       "    </tr>\n",
       "    <tr>\n",
       "      <th>Priority</th>\n",
       "      <td>46606</td>\n",
       "      <td>6</td>\n",
       "      <td>4</td>\n",
       "      <td>22717</td>\n",
       "    </tr>\n",
       "    <tr>\n",
       "      <th>number_cnt</th>\n",
       "      <td>46606</td>\n",
       "      <td>46606</td>\n",
       "      <td>0.601292279</td>\n",
       "      <td>1</td>\n",
       "    </tr>\n",
       "    <tr>\n",
       "      <th>Category</th>\n",
       "      <td>46606</td>\n",
       "      <td>4</td>\n",
       "      <td>incident</td>\n",
       "      <td>37748</td>\n",
       "    </tr>\n",
       "    <tr>\n",
       "      <th>KB_number</th>\n",
       "      <td>46606</td>\n",
       "      <td>1825</td>\n",
       "      <td>KM0001106</td>\n",
       "      <td>1106</td>\n",
       "    </tr>\n",
       "    <tr>\n",
       "      <th>Alert_Status</th>\n",
       "      <td>46606</td>\n",
       "      <td>1</td>\n",
       "      <td>closed</td>\n",
       "      <td>46606</td>\n",
       "    </tr>\n",
       "    <tr>\n",
       "      <th>No_of_Reassignments</th>\n",
       "      <td>46606</td>\n",
       "      <td>42</td>\n",
       "      <td>0</td>\n",
       "      <td>27468</td>\n",
       "    </tr>\n",
       "    <tr>\n",
       "      <th>Open_Time</th>\n",
       "      <td>46606</td>\n",
       "      <td>34636</td>\n",
       "      <td>24-03-2014 08:54</td>\n",
       "      <td>7</td>\n",
       "    </tr>\n",
       "    <tr>\n",
       "      <th>Reopen_Time</th>\n",
       "      <td>46606</td>\n",
       "      <td>2245</td>\n",
       "      <td></td>\n",
       "      <td>44322</td>\n",
       "    </tr>\n",
       "    <tr>\n",
       "      <th>Resolved_Time</th>\n",
       "      <td>46606</td>\n",
       "      <td>33628</td>\n",
       "      <td></td>\n",
       "      <td>1780</td>\n",
       "    </tr>\n",
       "    <tr>\n",
       "      <th>Close_Time</th>\n",
       "      <td>46606</td>\n",
       "      <td>34528</td>\n",
       "      <td>02-10-2013 15:20</td>\n",
       "      <td>21</td>\n",
       "    </tr>\n",
       "    <tr>\n",
       "      <th>Handle_Time_hrs</th>\n",
       "      <td>46606</td>\n",
       "      <td>30639</td>\n",
       "      <td>0</td>\n",
       "      <td>236</td>\n",
       "    </tr>\n",
       "    <tr>\n",
       "      <th>Closure_Code</th>\n",
       "      <td>46606</td>\n",
       "      <td>15</td>\n",
       "      <td>Other</td>\n",
       "      <td>16470</td>\n",
       "    </tr>\n",
       "    <tr>\n",
       "      <th>No_of_Related_Interactions</th>\n",
       "      <td>46606</td>\n",
       "      <td>50</td>\n",
       "      <td>1</td>\n",
       "      <td>43058</td>\n",
       "    </tr>\n",
       "    <tr>\n",
       "      <th>Related_Interaction</th>\n",
       "      <td>46606</td>\n",
       "      <td>43060</td>\n",
       "      <td>#MULTIVALUE</td>\n",
       "      <td>3434</td>\n",
       "    </tr>\n",
       "    <tr>\n",
       "      <th>No_of_Related_Incidents</th>\n",
       "      <td>46606</td>\n",
       "      <td>25</td>\n",
       "      <td></td>\n",
       "      <td>45384</td>\n",
       "    </tr>\n",
       "    <tr>\n",
       "      <th>No_of_Related_Changes</th>\n",
       "      <td>46606</td>\n",
       "      <td>5</td>\n",
       "      <td></td>\n",
       "      <td>46046</td>\n",
       "    </tr>\n",
       "    <tr>\n",
       "      <th>Related_Change</th>\n",
       "      <td>46606</td>\n",
       "      <td>233</td>\n",
       "      <td></td>\n",
       "      <td>46046</td>\n",
       "    </tr>\n",
       "  </tbody>\n",
       "</table>\n",
       "</div>"
      ],
      "text/plain": [
       "                            count unique                       top   freq\n",
       "CI_Name                     46606   3019                 SUB000456   3050\n",
       "CI_Cat                      46606     13               application  32900\n",
       "CI_Subcat                   46606     65  Server Based Application  18811\n",
       "WBS                         46606    274                 WBS000073  13342\n",
       "Incident_ID                 46606  46606                 IM0000004      1\n",
       "Status                      46606      2                    Closed  46597\n",
       "Impact                      46606      6                         4  22556\n",
       "Urgency                     46606      6                         4  22588\n",
       "Priority                    46606      6                         4  22717\n",
       "number_cnt                  46606  46606               0.601292279      1\n",
       "Category                    46606      4                  incident  37748\n",
       "KB_number                   46606   1825                 KM0001106   1106\n",
       "Alert_Status                46606      1                    closed  46606\n",
       "No_of_Reassignments         46606     42                         0  27468\n",
       "Open_Time                   46606  34636          24-03-2014 08:54      7\n",
       "Reopen_Time                 46606   2245                            44322\n",
       "Resolved_Time               46606  33628                             1780\n",
       "Close_Time                  46606  34528          02-10-2013 15:20     21\n",
       "Handle_Time_hrs             46606  30639                         0    236\n",
       "Closure_Code                46606     15                     Other  16470\n",
       "No_of_Related_Interactions  46606     50                         1  43058\n",
       "Related_Interaction         46606  43060               #MULTIVALUE   3434\n",
       "No_of_Related_Incidents     46606     25                            45384\n",
       "No_of_Related_Changes       46606      5                            46046\n",
       "Related_Change              46606    233                            46046"
      ]
     },
     "execution_count": 8,
     "metadata": {},
     "output_type": "execute_result"
    }
   ],
   "source": [
    "# Generate summary statistics for all columns (including non-numeric) and transpose the result\n",
    "df.describe(include='all').T"
   ]
  },
  {
   "cell_type": "code",
   "execution_count": 9,
   "id": "b60fe019",
   "metadata": {},
   "outputs": [
    {
     "name": "stdout",
     "output_type": "stream",
     "text": [
      "The no of duplicates in the data: 0\n"
     ]
    }
   ],
   "source": [
    "# checking for duplicates in the dataframe\n",
    "print('The no of duplicates in the data:',df.duplicated().sum())"
   ]
  },
  {
   "cell_type": "code",
   "execution_count": 10,
   "id": "6a1d64c7",
   "metadata": {},
   "outputs": [
    {
     "data": {
      "text/plain": [
       "CI_Name                       0\n",
       "CI_Cat                        0\n",
       "CI_Subcat                     0\n",
       "WBS                           0\n",
       "Incident_ID                   0\n",
       "Status                        0\n",
       "Impact                        0\n",
       "Urgency                       0\n",
       "Priority                      0\n",
       "number_cnt                    0\n",
       "Category                      0\n",
       "KB_number                     0\n",
       "Alert_Status                  0\n",
       "No_of_Reassignments           0\n",
       "Open_Time                     0\n",
       "Reopen_Time                   0\n",
       "Resolved_Time                 0\n",
       "Close_Time                    0\n",
       "Handle_Time_hrs               0\n",
       "Closure_Code                  0\n",
       "No_of_Related_Interactions    0\n",
       "Related_Interaction           0\n",
       "No_of_Related_Incidents       0\n",
       "No_of_Related_Changes         0\n",
       "Related_Change                0\n",
       "dtype: int64"
      ]
     },
     "execution_count": 10,
     "metadata": {},
     "output_type": "execute_result"
    }
   ],
   "source": [
    "# checking for null values in the dataframe\n",
    "df.isnull().sum()\n"
   ]
  },
  {
   "cell_type": "markdown",
   "id": "78a9fe53",
   "metadata": {},
   "source": [
    "General observations on basic insights from the data:\n",
    "1. There are no missing values in the dataframe.\n",
    "2. There are no duplicate rows in the dataframe.\n",
    "3. As there are no numerical values in the independent variables, there is no need to handle outliers."
   ]
  },
  {
   "cell_type": "markdown",
   "id": "3111bece",
   "metadata": {},
   "source": [
    "## Task 1"
   ]
  },
  {
   "cell_type": "markdown",
   "id": "ab290f52",
   "metadata": {},
   "source": [
    "\n",
    "## 1. Predicting High Priority Tickets: To predict priority 1 & 2 tickets, so that they can take preventive measures or fix the problem before it surfaces. "
   ]
  },
  {
   "cell_type": "markdown",
   "id": "116f45e9",
   "metadata": {},
   "source": [
    "All the features are not necessary to predict priority. The features, such as CI_Cat,CI_Subcat, WBS, and Category, are necessary to predict the target variable, 'Priority'."
   ]
  },
  {
   "cell_type": "markdown",
   "id": "fa823a99",
   "metadata": {},
   "source": [
    "## Data preprocessing"
   ]
  },
  {
   "cell_type": "code",
   "execution_count": 11,
   "id": "530e0a83",
   "metadata": {},
   "outputs": [
    {
     "name": "stdout",
     "output_type": "stream",
     "text": [
      "['subapplication' 'application' 'computer' '' 'displaydevice' 'software'\n",
      " 'storage' 'database' 'hardware' 'officeelectronics' 'networkcomponents'\n",
      " 'applicationcomponent' 'Phone']\n"
     ]
    }
   ],
   "source": [
    "unique_values = df['CI_Cat'].unique()  # Get the unique values in the 'CI_Cat' column\n",
    "print(unique_values)"
   ]
  },
  {
   "cell_type": "code",
   "execution_count": 12,
   "id": "a91afce5",
   "metadata": {},
   "outputs": [],
   "source": [
    "# Replace 'database' with 'storage' in the 'CI_Cat' column\n",
    "df.CI_Cat.replace(['database'], 'storage', inplace=True)\n",
    "\n",
    "# Replace 'applicationcomponent' with 'subapplication' in the 'CI_Cat' column\n",
    "df.CI_Cat.replace(['applicationcomponent'], 'subapplication', inplace=True)\n",
    "\n",
    "# Replace 'displaydevice', 'officeelectronics', 'Phone', and 'networkcomponents' with 'hardware' in the 'CI_Cat' column\n",
    "df.CI_Cat.replace(['displaydevice', 'officeelectronics', 'Phone', 'networkcomponents'], 'hardware', inplace=True)\n",
    "\n",
    "# Replace missing values (NaN) with 'application' in the 'CI_Cat' column\n",
    "df.CI_Cat.replace([np.nan,''], 'application', inplace=True)"
   ]
  },
  {
   "cell_type": "code",
   "execution_count": 13,
   "id": "f11fe556",
   "metadata": {},
   "outputs": [
    {
     "name": "stdout",
     "output_type": "stream",
     "text": [
      "['subapplication' 'application' 'computer' 'hardware' 'software' 'storage']\n"
     ]
    }
   ],
   "source": [
    "unique_values = df['CI_Cat'].unique()  # Get the unique values in the 'CI_Cat' column after replacement\n",
    "print(unique_values)\n"
   ]
  },
  {
   "cell_type": "code",
   "execution_count": 14,
   "id": "3de83320",
   "metadata": {},
   "outputs": [
    {
     "name": "stdout",
     "output_type": "stream",
     "text": [
      "['Web Based Application' 'Desktop Application' 'Server Based Application'\n",
      " 'SAP' 'Client Based Application' 'Citrix' 'Standard Application'\n",
      " 'Windows Server' 'Laptop' 'Linux Server' '' 'Monitor'\n",
      " 'Automation Software' 'SAN' 'Banking Device' 'Desktop' 'Database'\n",
      " 'Oracle Server' 'Keyboard' 'Printer' 'Exchange' 'System Software' 'VDI'\n",
      " 'Encryption' 'Omgeving' 'MigratieDummy' 'Scanner' 'Controller'\n",
      " 'DataCenterEquipment' 'KVM Switches' 'Switch' 'Database Software'\n",
      " 'Network Component' 'Unix Server' 'Lines' 'ESX Cluster' 'zOS Server'\n",
      " 'SharePoint Farm' 'NonStop Server' 'Application Server'\n",
      " 'Security Software' 'Thin Client' 'zOS Cluster' 'Router' 'VMWare'\n",
      " 'Net Device' 'Neoview Server' 'MQ Queue Manager' 'UPS' 'Number'\n",
      " 'Iptelephony' 'Windows Server in extern beheer' 'Modem' 'X86 Server'\n",
      " 'ESX Server' 'Virtual Tape Server' 'IPtelephony' 'NonStop Harddisk'\n",
      " 'Firewall' 'RAC Service' 'zOS Systeem' 'Instance' 'NonStop Storage'\n",
      " 'Protocol' 'Tape Library']\n"
     ]
    }
   ],
   "source": [
    "unique_values_subcat = df['CI_Subcat'].unique()  # Get the unique values in the 'CI_Subcat' column\n",
    "print(unique_values_subcat)"
   ]
  },
  {
   "cell_type": "code",
   "execution_count": 15,
   "id": "b39be8e2",
   "metadata": {},
   "outputs": [],
   "source": [
    "# Replace 'Desktop' with 'Desktop Application' in the 'CI_Subcat' column\n",
    "df.CI_Subcat.replace('Desktop', 'Desktop Application', inplace=True)\n",
    "\n",
    "# Replace a list of values with 'Server Based Application' in the 'CI_Subcat' column\n",
    "df.CI_Subcat.replace(['Application Server', 'Virtual Tape Server', 'ESX Server', 'zOS Server', 'Neoview Server',\n",
    "                     'X86 Server', 'Unix Server', 'Oracle Server', 'Windows Server in extern beheer', 'Thin Client',\n",
    "                     'NonStop Server', 'Number', 'Windows Server', 'Linux Server', np.nan, 'SharePoint Farm', 'Lines'],\n",
    "                    'Server Based Application', inplace=True)\n",
    "\n",
    "# Replace 'RAC Service' with 'Banking Device' in the 'CI_Subcat' column\n",
    "df.CI_Subcat.replace('RAC Service', 'Banking Device', inplace=True)\n",
    "\n",
    "# Replace a list of values with 'Web Based Application' in the 'CI_Subcat' column\n",
    "df.CI_Subcat.replace(['Iptelephony', 'Protocol', 'Net Device', 'IPtelephony', 'ESX Cluster', 'Standard Application'],\n",
    "                    'Web Based Application', inplace=True)\n",
    "\n",
    "# Replace a list of values with 'System Software' in the 'CI_Subcat' column\n",
    "df.CI_Subcat.replace(['VMWare', 'Security Software', 'zOS Systeem', 'Firewall', 'Database Software', 'VDI', 'Instance',\n",
    "                     'MQ Queue Manager', 'Automation Software', 'Citrix', 'SAP', 'Encryption'],\n",
    "                    'System Software', inplace=True)\n",
    "\n",
    "# Replace a list of values with 'Client Based Application' in the 'CI_Subcat' column\n",
    "df.CI_Subcat.replace(['UPS', 'Omgeving'], 'Client Based Application', inplace=True)\n",
    "\n",
    "# Replace a list of values with 'Database' in the 'CI_Subcat' column\n",
    "df.CI_Subcat.replace(['NonStop Storage', 'NonStop Harddisk', 'Tape Library', 'zOS Cluster', 'DataCenterEquipment',\n",
    "                     'MigratieDummy'],\n",
    "                    'Database', inplace=True)\n",
    "\n",
    "# Replace 'Modem' and 'Router' with 'Network Component' in the 'CI_Subcat' column\n",
    "df.CI_Subcat.replace(['Modem', 'Router'], 'Network Component', inplace=True)\n",
    "\n",
    "# Replace 'KVM Switches' with 'Switch' in the 'CI_Subcat' column\n",
    "df.CI_Subcat.replace('KVM Switches', 'Switch', inplace=True)"
   ]
  },
  {
   "cell_type": "code",
   "execution_count": 16,
   "id": "15b31083",
   "metadata": {},
   "outputs": [
    {
     "name": "stdout",
     "output_type": "stream",
     "text": [
      "['Web Based Application' 'Desktop Application' 'Server Based Application'\n",
      " 'System Software' 'Client Based Application' 'Laptop' '' 'Monitor' 'SAN'\n",
      " 'Banking Device' 'Database' 'Keyboard' 'Printer' 'Exchange' 'Scanner'\n",
      " 'Controller' 'Switch' 'Network Component']\n"
     ]
    }
   ],
   "source": [
    "unique_values_subcat = df['CI_Subcat'].unique()  # Get the unique values in the 'CI_Subcat' column after replacement\n",
    "print(unique_values_subcat)\n"
   ]
  },
  {
   "cell_type": "code",
   "execution_count": 17,
   "id": "e0c7051b",
   "metadata": {},
   "outputs": [
    {
     "name": "stdout",
     "output_type": "stream",
     "text": [
      "4     22717\n",
      "5     16486\n",
      "3      5323\n",
      "NA     1380\n",
      "2       697\n",
      "1         3\n",
      "Name: Priority, dtype: int64\n"
     ]
    }
   ],
   "source": [
    "# Count and print the unique values and their counts in the 'Priority' column\n",
    "value_counts = df['Priority'].value_counts()\n",
    "print(value_counts)"
   ]
  },
  {
   "cell_type": "code",
   "execution_count": 18,
   "id": "3bde4edb",
   "metadata": {},
   "outputs": [],
   "source": [
    "df.Priority.replace('NA','5', inplace=True)"
   ]
  },
  {
   "cell_type": "code",
   "execution_count": 19,
   "id": "aedcd96f",
   "metadata": {},
   "outputs": [
    {
     "name": "stdout",
     "output_type": "stream",
     "text": [
      "4    22717\n",
      "5    17866\n",
      "3     5323\n",
      "2      697\n",
      "1        3\n",
      "Name: Priority, dtype: int64\n"
     ]
    }
   ],
   "source": [
    "# Count and print the unique values and their counts in the 'Priority' column AFTER REPLACEMENT\n",
    "value_counts = df['Priority'].value_counts()\n",
    "print(value_counts)"
   ]
  },
  {
   "cell_type": "code",
   "execution_count": 20,
   "id": "bb9ac77f",
   "metadata": {},
   "outputs": [],
   "source": [
    "from sklearn.preprocessing import LabelEncoder\n",
    "\n",
    "lc = LabelEncoder()\n",
    "\n",
    "df.CI_Cat = lc.fit_transform(df.CI_Cat)  # Encode the 'CI_Cat' column\n",
    "df.CI_Subcat = lc.fit_transform(df.CI_Subcat)  # Encode the 'CI_Subcat' column\n",
    "df.WBS = lc.fit_transform(df.WBS)  # Encode the 'WBS' column\n",
    "df.Category = lc.fit_transform(df.Category)  # Encode the 'Category' column"
   ]
  },
  {
   "cell_type": "code",
   "execution_count": 21,
   "id": "883a3e4c",
   "metadata": {},
   "outputs": [],
   "source": [
    "X = df.loc[:,['CI_Cat','CI_Subcat','WBS','Category']]  # Create the feature matrix 'X' with selected columns\n",
    "Y = df.Priority  # Create the target variable 'Y' for priority prediction"
   ]
  },
  {
   "cell_type": "code",
   "execution_count": 22,
   "id": "3971ac19",
   "metadata": {},
   "outputs": [],
   "source": [
    "## Creating training and testing data.\n",
    "from sklearn.model_selection import train_test_split\n",
    "X_train,X_test,y_train,y_test=train_test_split(X,Y,test_size=0.2,random_state=42)"
   ]
  },
  {
   "cell_type": "code",
   "execution_count": 23,
   "id": "60d77b6d",
   "metadata": {},
   "outputs": [],
   "source": [
    "# Standardization technique: Scale the features using StandardScaler for both training and testing data\n",
    "from sklearn.preprocessing import StandardScaler\n",
    "sc = StandardScaler()\n",
    "X_train = sc.fit_transform(X_train)\n",
    "X_test = sc.transform(X_test)"
   ]
  },
  {
   "cell_type": "code",
   "execution_count": 24,
   "id": "a6130542",
   "metadata": {},
   "outputs": [
    {
     "data": {
      "text/plain": [
       "(37284, 4)"
      ]
     },
     "execution_count": 24,
     "metadata": {},
     "output_type": "execute_result"
    }
   ],
   "source": [
    "# Display the shape (dimensions) of the training feature matrix 'X_train'\n",
    "X_train.shape"
   ]
  },
  {
   "cell_type": "code",
   "execution_count": 25,
   "id": "c2de7e59",
   "metadata": {},
   "outputs": [
    {
     "data": {
      "text/plain": [
       "(9322, 4)"
      ]
     },
     "execution_count": 25,
     "metadata": {},
     "output_type": "execute_result"
    }
   ],
   "source": [
    "# Display the shape (dimensions) of the testing feature matrix 'X_test'\n",
    "X_test.shape"
   ]
  },
  {
   "cell_type": "markdown",
   "id": "93c0ae23",
   "metadata": {},
   "source": [
    "## MODEL BUILDING"
   ]
  },
  {
   "cell_type": "markdown",
   "id": "13644345",
   "metadata": {},
   "source": [
    "### Logistic Regression"
   ]
  },
  {
   "cell_type": "code",
   "execution_count": 26,
   "id": "7fe9a64f",
   "metadata": {},
   "outputs": [
    {
     "data": {
      "text/html": [
       "<style>#sk-container-id-1 {color: black;}#sk-container-id-1 pre{padding: 0;}#sk-container-id-1 div.sk-toggleable {background-color: white;}#sk-container-id-1 label.sk-toggleable__label {cursor: pointer;display: block;width: 100%;margin-bottom: 0;padding: 0.3em;box-sizing: border-box;text-align: center;}#sk-container-id-1 label.sk-toggleable__label-arrow:before {content: \"▸\";float: left;margin-right: 0.25em;color: #696969;}#sk-container-id-1 label.sk-toggleable__label-arrow:hover:before {color: black;}#sk-container-id-1 div.sk-estimator:hover label.sk-toggleable__label-arrow:before {color: black;}#sk-container-id-1 div.sk-toggleable__content {max-height: 0;max-width: 0;overflow: hidden;text-align: left;background-color: #f0f8ff;}#sk-container-id-1 div.sk-toggleable__content pre {margin: 0.2em;color: black;border-radius: 0.25em;background-color: #f0f8ff;}#sk-container-id-1 input.sk-toggleable__control:checked~div.sk-toggleable__content {max-height: 200px;max-width: 100%;overflow: auto;}#sk-container-id-1 input.sk-toggleable__control:checked~label.sk-toggleable__label-arrow:before {content: \"▾\";}#sk-container-id-1 div.sk-estimator input.sk-toggleable__control:checked~label.sk-toggleable__label {background-color: #d4ebff;}#sk-container-id-1 div.sk-label input.sk-toggleable__control:checked~label.sk-toggleable__label {background-color: #d4ebff;}#sk-container-id-1 input.sk-hidden--visually {border: 0;clip: rect(1px 1px 1px 1px);clip: rect(1px, 1px, 1px, 1px);height: 1px;margin: -1px;overflow: hidden;padding: 0;position: absolute;width: 1px;}#sk-container-id-1 div.sk-estimator {font-family: monospace;background-color: #f0f8ff;border: 1px dotted black;border-radius: 0.25em;box-sizing: border-box;margin-bottom: 0.5em;}#sk-container-id-1 div.sk-estimator:hover {background-color: #d4ebff;}#sk-container-id-1 div.sk-parallel-item::after {content: \"\";width: 100%;border-bottom: 1px solid gray;flex-grow: 1;}#sk-container-id-1 div.sk-label:hover label.sk-toggleable__label {background-color: #d4ebff;}#sk-container-id-1 div.sk-serial::before {content: \"\";position: absolute;border-left: 1px solid gray;box-sizing: border-box;top: 0;bottom: 0;left: 50%;z-index: 0;}#sk-container-id-1 div.sk-serial {display: flex;flex-direction: column;align-items: center;background-color: white;padding-right: 0.2em;padding-left: 0.2em;position: relative;}#sk-container-id-1 div.sk-item {position: relative;z-index: 1;}#sk-container-id-1 div.sk-parallel {display: flex;align-items: stretch;justify-content: center;background-color: white;position: relative;}#sk-container-id-1 div.sk-item::before, #sk-container-id-1 div.sk-parallel-item::before {content: \"\";position: absolute;border-left: 1px solid gray;box-sizing: border-box;top: 0;bottom: 0;left: 50%;z-index: -1;}#sk-container-id-1 div.sk-parallel-item {display: flex;flex-direction: column;z-index: 1;position: relative;background-color: white;}#sk-container-id-1 div.sk-parallel-item:first-child::after {align-self: flex-end;width: 50%;}#sk-container-id-1 div.sk-parallel-item:last-child::after {align-self: flex-start;width: 50%;}#sk-container-id-1 div.sk-parallel-item:only-child::after {width: 0;}#sk-container-id-1 div.sk-dashed-wrapped {border: 1px dashed gray;margin: 0 0.4em 0.5em 0.4em;box-sizing: border-box;padding-bottom: 0.4em;background-color: white;}#sk-container-id-1 div.sk-label label {font-family: monospace;font-weight: bold;display: inline-block;line-height: 1.2em;}#sk-container-id-1 div.sk-label-container {text-align: center;}#sk-container-id-1 div.sk-container {/* jupyter's `normalize.less` sets `[hidden] { display: none; }` but bootstrap.min.css set `[hidden] { display: none !important; }` so we also need the `!important` here to be able to override the default hidden behavior on the sphinx rendered scikit-learn.org. See: https://github.com/scikit-learn/scikit-learn/issues/21755 */display: inline-block !important;position: relative;}#sk-container-id-1 div.sk-text-repr-fallback {display: none;}</style><div id=\"sk-container-id-1\" class=\"sk-top-container\"><div class=\"sk-text-repr-fallback\"><pre>LogisticRegression()</pre><b>In a Jupyter environment, please rerun this cell to show the HTML representation or trust the notebook. <br />On GitHub, the HTML representation is unable to render, please try loading this page with nbviewer.org.</b></div><div class=\"sk-container\" hidden><div class=\"sk-item\"><div class=\"sk-estimator sk-toggleable\"><input class=\"sk-toggleable__control sk-hidden--visually\" id=\"sk-estimator-id-1\" type=\"checkbox\" checked><label for=\"sk-estimator-id-1\" class=\"sk-toggleable__label sk-toggleable__label-arrow\">LogisticRegression</label><div class=\"sk-toggleable__content\"><pre>LogisticRegression()</pre></div></div></div></div></div>"
      ],
      "text/plain": [
       "LogisticRegression()"
      ]
     },
     "execution_count": 26,
     "metadata": {},
     "output_type": "execute_result"
    }
   ],
   "source": [
    "from sklearn.linear_model import LogisticRegression\n",
    "from sklearn.metrics import accuracy_score, classification_report, f1_score\n",
    "\n",
    "# Create a Logistic Regression classifier\n",
    "clf = LogisticRegression()\n",
    "\n",
    "# Train the classifier on the training data\n",
    "clf.fit(X_train, y_train)"
   ]
  },
  {
   "cell_type": "code",
   "execution_count": 27,
   "id": "2c5d62dc",
   "metadata": {},
   "outputs": [
    {
     "name": "stdout",
     "output_type": "stream",
     "text": [
      "Classification Report - Training Data:\n",
      "              precision    recall  f1-score   support\n",
      "\n",
      "           1       0.00      0.00      0.00         3\n",
      "           2       0.00      0.00      0.00       554\n",
      "           3       0.00      0.00      0.00      4223\n",
      "           4       0.60      0.93      0.73     18195\n",
      "           5       0.77      0.48      0.59     14309\n",
      "\n",
      "    accuracy                           0.64     37284\n",
      "   macro avg       0.27      0.28      0.26     37284\n",
      "weighted avg       0.59      0.64      0.58     37284\n",
      "\n",
      "Classification Report - Test Data:\n",
      "              precision    recall  f1-score   support\n",
      "\n",
      "           2       0.00      0.00      0.00       143\n",
      "           3       0.00      0.00      0.00      1100\n",
      "           4       0.60      0.93      0.73      4522\n",
      "           5       0.78      0.49      0.60      3557\n",
      "\n",
      "    accuracy                           0.64      9322\n",
      "   macro avg       0.34      0.36      0.33      9322\n",
      "weighted avg       0.59      0.64      0.58      9322\n",
      "\n"
     ]
    }
   ],
   "source": [
    "# Predict on the test data\n",
    "y_pred = clf.predict(X_test)\n",
    "\n",
    "# Perform predictions on test data\n",
    "y_hat = clf.predict(X_test)\n",
    "\n",
    "# Perform predictions on training data\n",
    "y_train_predict = clf.predict(X_train)\n",
    "# Evaluate the model using classification metrics\n",
    "print(\"Classification Report - Training Data:\")\n",
    "print(classification_report(y_train, y_train_predict))  # Precision, recall, F1 scores, and accuracy\n",
    "\n",
    "print(\"Classification Report - Test Data:\")\n",
    "print(classification_report(y_test, y_hat))  # Precision, recall, F1 scores, and accuracy"
   ]
  },
  {
   "cell_type": "markdown",
   "id": "7ff44566",
   "metadata": {},
   "source": [
    "### DecisionTree"
   ]
  },
  {
   "cell_type": "code",
   "execution_count": 28,
   "id": "2a69e827",
   "metadata": {},
   "outputs": [
    {
     "data": {
      "text/html": [
       "<style>#sk-container-id-2 {color: black;}#sk-container-id-2 pre{padding: 0;}#sk-container-id-2 div.sk-toggleable {background-color: white;}#sk-container-id-2 label.sk-toggleable__label {cursor: pointer;display: block;width: 100%;margin-bottom: 0;padding: 0.3em;box-sizing: border-box;text-align: center;}#sk-container-id-2 label.sk-toggleable__label-arrow:before {content: \"▸\";float: left;margin-right: 0.25em;color: #696969;}#sk-container-id-2 label.sk-toggleable__label-arrow:hover:before {color: black;}#sk-container-id-2 div.sk-estimator:hover label.sk-toggleable__label-arrow:before {color: black;}#sk-container-id-2 div.sk-toggleable__content {max-height: 0;max-width: 0;overflow: hidden;text-align: left;background-color: #f0f8ff;}#sk-container-id-2 div.sk-toggleable__content pre {margin: 0.2em;color: black;border-radius: 0.25em;background-color: #f0f8ff;}#sk-container-id-2 input.sk-toggleable__control:checked~div.sk-toggleable__content {max-height: 200px;max-width: 100%;overflow: auto;}#sk-container-id-2 input.sk-toggleable__control:checked~label.sk-toggleable__label-arrow:before {content: \"▾\";}#sk-container-id-2 div.sk-estimator input.sk-toggleable__control:checked~label.sk-toggleable__label {background-color: #d4ebff;}#sk-container-id-2 div.sk-label input.sk-toggleable__control:checked~label.sk-toggleable__label {background-color: #d4ebff;}#sk-container-id-2 input.sk-hidden--visually {border: 0;clip: rect(1px 1px 1px 1px);clip: rect(1px, 1px, 1px, 1px);height: 1px;margin: -1px;overflow: hidden;padding: 0;position: absolute;width: 1px;}#sk-container-id-2 div.sk-estimator {font-family: monospace;background-color: #f0f8ff;border: 1px dotted black;border-radius: 0.25em;box-sizing: border-box;margin-bottom: 0.5em;}#sk-container-id-2 div.sk-estimator:hover {background-color: #d4ebff;}#sk-container-id-2 div.sk-parallel-item::after {content: \"\";width: 100%;border-bottom: 1px solid gray;flex-grow: 1;}#sk-container-id-2 div.sk-label:hover label.sk-toggleable__label {background-color: #d4ebff;}#sk-container-id-2 div.sk-serial::before {content: \"\";position: absolute;border-left: 1px solid gray;box-sizing: border-box;top: 0;bottom: 0;left: 50%;z-index: 0;}#sk-container-id-2 div.sk-serial {display: flex;flex-direction: column;align-items: center;background-color: white;padding-right: 0.2em;padding-left: 0.2em;position: relative;}#sk-container-id-2 div.sk-item {position: relative;z-index: 1;}#sk-container-id-2 div.sk-parallel {display: flex;align-items: stretch;justify-content: center;background-color: white;position: relative;}#sk-container-id-2 div.sk-item::before, #sk-container-id-2 div.sk-parallel-item::before {content: \"\";position: absolute;border-left: 1px solid gray;box-sizing: border-box;top: 0;bottom: 0;left: 50%;z-index: -1;}#sk-container-id-2 div.sk-parallel-item {display: flex;flex-direction: column;z-index: 1;position: relative;background-color: white;}#sk-container-id-2 div.sk-parallel-item:first-child::after {align-self: flex-end;width: 50%;}#sk-container-id-2 div.sk-parallel-item:last-child::after {align-self: flex-start;width: 50%;}#sk-container-id-2 div.sk-parallel-item:only-child::after {width: 0;}#sk-container-id-2 div.sk-dashed-wrapped {border: 1px dashed gray;margin: 0 0.4em 0.5em 0.4em;box-sizing: border-box;padding-bottom: 0.4em;background-color: white;}#sk-container-id-2 div.sk-label label {font-family: monospace;font-weight: bold;display: inline-block;line-height: 1.2em;}#sk-container-id-2 div.sk-label-container {text-align: center;}#sk-container-id-2 div.sk-container {/* jupyter's `normalize.less` sets `[hidden] { display: none; }` but bootstrap.min.css set `[hidden] { display: none !important; }` so we also need the `!important` here to be able to override the default hidden behavior on the sphinx rendered scikit-learn.org. See: https://github.com/scikit-learn/scikit-learn/issues/21755 */display: inline-block !important;position: relative;}#sk-container-id-2 div.sk-text-repr-fallback {display: none;}</style><div id=\"sk-container-id-2\" class=\"sk-top-container\"><div class=\"sk-text-repr-fallback\"><pre>DecisionTreeClassifier()</pre><b>In a Jupyter environment, please rerun this cell to show the HTML representation or trust the notebook. <br />On GitHub, the HTML representation is unable to render, please try loading this page with nbviewer.org.</b></div><div class=\"sk-container\" hidden><div class=\"sk-item\"><div class=\"sk-estimator sk-toggleable\"><input class=\"sk-toggleable__control sk-hidden--visually\" id=\"sk-estimator-id-2\" type=\"checkbox\" checked><label for=\"sk-estimator-id-2\" class=\"sk-toggleable__label sk-toggleable__label-arrow\">DecisionTreeClassifier</label><div class=\"sk-toggleable__content\"><pre>DecisionTreeClassifier()</pre></div></div></div></div></div>"
      ],
      "text/plain": [
       "DecisionTreeClassifier()"
      ]
     },
     "execution_count": 28,
     "metadata": {},
     "output_type": "execute_result"
    }
   ],
   "source": [
    "from sklearn.tree import DecisionTreeClassifier\n",
    "from sklearn.metrics import accuracy_score, classification_report, f1_score\n",
    "\n",
    "# Create a Decision Tree classifier\n",
    "clf_dt = DecisionTreeClassifier()\n",
    "\n",
    "# Train the classifier on the training data\n",
    "clf_dt.fit(X_train, y_train)"
   ]
  },
  {
   "cell_type": "code",
   "execution_count": 29,
   "id": "19d06134",
   "metadata": {},
   "outputs": [
    {
     "name": "stdout",
     "output_type": "stream",
     "text": [
      "Decision Tree - Classification Report - Training Data:\n",
      "              precision    recall  f1-score   support\n",
      "\n",
      "           1       0.00      0.00      0.00         3\n",
      "           2       0.50      0.64      0.56       554\n",
      "           3       0.66      0.62      0.64      4223\n",
      "           4       0.81      0.91      0.86     18195\n",
      "           5       0.89      0.76      0.82     14309\n",
      "\n",
      "    accuracy                           0.81     37284\n",
      "   macro avg       0.57      0.59      0.58     37284\n",
      "weighted avg       0.82      0.81      0.81     37284\n",
      "\n",
      "Decision Tree - Classification Report - Test Data:\n",
      "              precision    recall  f1-score   support\n",
      "\n",
      "           2       0.48      0.61      0.54       143\n",
      "           3       0.67      0.61      0.64      1100\n",
      "           4       0.82      0.91      0.86      4522\n",
      "           5       0.88      0.77      0.82      3557\n",
      "\n",
      "    accuracy                           0.82      9322\n",
      "   macro avg       0.71      0.72      0.71      9322\n",
      "weighted avg       0.82      0.82      0.81      9322\n",
      "\n"
     ]
    }
   ],
   "source": [
    "# Predict on the test data\n",
    "y_pred_dt = clf_dt.predict(X_test)\n",
    "\n",
    "# Perform predictions on training data\n",
    "y_train_predict_dt = clf_dt.predict(X_train)\n",
    "\n",
    "# Evaluate the Decision Tree model using classification metrics\n",
    "print(\"Decision Tree - Classification Report - Training Data:\")\n",
    "print(classification_report(y_train, y_train_predict_dt))  # Precision, recall, F1 scores, and accuracy\n",
    "\n",
    "print(\"Decision Tree - Classification Report - Test Data:\")\n",
    "print(classification_report(y_test, y_pred_dt))  # Precision, recall, F1 scores, and accuracy"
   ]
  },
  {
   "cell_type": "markdown",
   "id": "724114b7",
   "metadata": {},
   "source": [
    "### Support Vector Machine"
   ]
  },
  {
   "cell_type": "code",
   "execution_count": 30,
   "id": "1db61b03",
   "metadata": {},
   "outputs": [
    {
     "data": {
      "text/html": [
       "<style>#sk-container-id-3 {color: black;}#sk-container-id-3 pre{padding: 0;}#sk-container-id-3 div.sk-toggleable {background-color: white;}#sk-container-id-3 label.sk-toggleable__label {cursor: pointer;display: block;width: 100%;margin-bottom: 0;padding: 0.3em;box-sizing: border-box;text-align: center;}#sk-container-id-3 label.sk-toggleable__label-arrow:before {content: \"▸\";float: left;margin-right: 0.25em;color: #696969;}#sk-container-id-3 label.sk-toggleable__label-arrow:hover:before {color: black;}#sk-container-id-3 div.sk-estimator:hover label.sk-toggleable__label-arrow:before {color: black;}#sk-container-id-3 div.sk-toggleable__content {max-height: 0;max-width: 0;overflow: hidden;text-align: left;background-color: #f0f8ff;}#sk-container-id-3 div.sk-toggleable__content pre {margin: 0.2em;color: black;border-radius: 0.25em;background-color: #f0f8ff;}#sk-container-id-3 input.sk-toggleable__control:checked~div.sk-toggleable__content {max-height: 200px;max-width: 100%;overflow: auto;}#sk-container-id-3 input.sk-toggleable__control:checked~label.sk-toggleable__label-arrow:before {content: \"▾\";}#sk-container-id-3 div.sk-estimator input.sk-toggleable__control:checked~label.sk-toggleable__label {background-color: #d4ebff;}#sk-container-id-3 div.sk-label input.sk-toggleable__control:checked~label.sk-toggleable__label {background-color: #d4ebff;}#sk-container-id-3 input.sk-hidden--visually {border: 0;clip: rect(1px 1px 1px 1px);clip: rect(1px, 1px, 1px, 1px);height: 1px;margin: -1px;overflow: hidden;padding: 0;position: absolute;width: 1px;}#sk-container-id-3 div.sk-estimator {font-family: monospace;background-color: #f0f8ff;border: 1px dotted black;border-radius: 0.25em;box-sizing: border-box;margin-bottom: 0.5em;}#sk-container-id-3 div.sk-estimator:hover {background-color: #d4ebff;}#sk-container-id-3 div.sk-parallel-item::after {content: \"\";width: 100%;border-bottom: 1px solid gray;flex-grow: 1;}#sk-container-id-3 div.sk-label:hover label.sk-toggleable__label {background-color: #d4ebff;}#sk-container-id-3 div.sk-serial::before {content: \"\";position: absolute;border-left: 1px solid gray;box-sizing: border-box;top: 0;bottom: 0;left: 50%;z-index: 0;}#sk-container-id-3 div.sk-serial {display: flex;flex-direction: column;align-items: center;background-color: white;padding-right: 0.2em;padding-left: 0.2em;position: relative;}#sk-container-id-3 div.sk-item {position: relative;z-index: 1;}#sk-container-id-3 div.sk-parallel {display: flex;align-items: stretch;justify-content: center;background-color: white;position: relative;}#sk-container-id-3 div.sk-item::before, #sk-container-id-3 div.sk-parallel-item::before {content: \"\";position: absolute;border-left: 1px solid gray;box-sizing: border-box;top: 0;bottom: 0;left: 50%;z-index: -1;}#sk-container-id-3 div.sk-parallel-item {display: flex;flex-direction: column;z-index: 1;position: relative;background-color: white;}#sk-container-id-3 div.sk-parallel-item:first-child::after {align-self: flex-end;width: 50%;}#sk-container-id-3 div.sk-parallel-item:last-child::after {align-self: flex-start;width: 50%;}#sk-container-id-3 div.sk-parallel-item:only-child::after {width: 0;}#sk-container-id-3 div.sk-dashed-wrapped {border: 1px dashed gray;margin: 0 0.4em 0.5em 0.4em;box-sizing: border-box;padding-bottom: 0.4em;background-color: white;}#sk-container-id-3 div.sk-label label {font-family: monospace;font-weight: bold;display: inline-block;line-height: 1.2em;}#sk-container-id-3 div.sk-label-container {text-align: center;}#sk-container-id-3 div.sk-container {/* jupyter's `normalize.less` sets `[hidden] { display: none; }` but bootstrap.min.css set `[hidden] { display: none !important; }` so we also need the `!important` here to be able to override the default hidden behavior on the sphinx rendered scikit-learn.org. See: https://github.com/scikit-learn/scikit-learn/issues/21755 */display: inline-block !important;position: relative;}#sk-container-id-3 div.sk-text-repr-fallback {display: none;}</style><div id=\"sk-container-id-3\" class=\"sk-top-container\"><div class=\"sk-text-repr-fallback\"><pre>SVC()</pre><b>In a Jupyter environment, please rerun this cell to show the HTML representation or trust the notebook. <br />On GitHub, the HTML representation is unable to render, please try loading this page with nbviewer.org.</b></div><div class=\"sk-container\" hidden><div class=\"sk-item\"><div class=\"sk-estimator sk-toggleable\"><input class=\"sk-toggleable__control sk-hidden--visually\" id=\"sk-estimator-id-3\" type=\"checkbox\" checked><label for=\"sk-estimator-id-3\" class=\"sk-toggleable__label sk-toggleable__label-arrow\">SVC</label><div class=\"sk-toggleable__content\"><pre>SVC()</pre></div></div></div></div></div>"
      ],
      "text/plain": [
       "SVC()"
      ]
     },
     "execution_count": 30,
     "metadata": {},
     "output_type": "execute_result"
    }
   ],
   "source": [
    "from sklearn.svm import SVC\n",
    "from sklearn.metrics import accuracy_score, classification_report, f1_score,precision_score,recall_score\n",
    "\n",
    "# Create an SVM classifier\n",
    "clf_svc = SVC()\n",
    "\n",
    "# Train the classifier on the training data\n",
    "clf_svc.fit(X_train, y_train)"
   ]
  },
  {
   "cell_type": "code",
   "execution_count": 31,
   "id": "920e9ee1",
   "metadata": {},
   "outputs": [
    {
     "name": "stdout",
     "output_type": "stream",
     "text": [
      "Classification Report - Training Data:\n",
      "              precision    recall  f1-score   support\n",
      "\n",
      "           1       0.00      0.00      0.00         3\n",
      "           2       0.48      0.59      0.53       554\n",
      "           3       0.54      0.30      0.39      4223\n",
      "           4       0.70      0.90      0.79     18195\n",
      "           5       0.86      0.65      0.74     14309\n",
      "\n",
      "    accuracy                           0.73     37284\n",
      "   macro avg       0.52      0.49      0.49     37284\n",
      "weighted avg       0.74      0.73      0.72     37284\n",
      "\n",
      "Classification Report - Test Data:\n",
      "              precision    recall  f1-score   support\n",
      "\n",
      "           2       0.47      0.59      0.53       143\n",
      "           3       0.55      0.31      0.39      1100\n",
      "           4       0.70      0.91      0.79      4522\n",
      "           5       0.86      0.66      0.75      3557\n",
      "\n",
      "    accuracy                           0.74      9322\n",
      "   macro avg       0.65      0.62      0.62      9322\n",
      "weighted avg       0.74      0.74      0.73      9322\n",
      "\n"
     ]
    }
   ],
   "source": [
    "# Predict on the test data\n",
    "y_pred = clf_svc.predict(X_test)\n",
    "\n",
    "# Perform predictions on test data\n",
    "y_hat = clf_svc.predict(X_test)\n",
    "\n",
    "# Perform predictions on training data\n",
    "y_train_predict = clf_svc.predict(X_train)\n",
    "\n",
    "# Evaluate the model using classification metrics\n",
    "print(\"Classification Report - Training Data:\")\n",
    "print(classification_report(y_train, y_train_predict))  # Precision, recall, F1 scores, and accuracy\n",
    "\n",
    "print(\"Classification Report - Test Data:\")\n",
    "print(classification_report(y_test, y_hat))  # Precision, recall, F1 scores, and accuracy"
   ]
  },
  {
   "cell_type": "markdown",
   "id": "f16af182",
   "metadata": {},
   "source": [
    "### Random Forest Classifier"
   ]
  },
  {
   "cell_type": "code",
   "execution_count": 32,
   "id": "523ba033",
   "metadata": {},
   "outputs": [
    {
     "data": {
      "text/html": [
       "<style>#sk-container-id-4 {color: black;}#sk-container-id-4 pre{padding: 0;}#sk-container-id-4 div.sk-toggleable {background-color: white;}#sk-container-id-4 label.sk-toggleable__label {cursor: pointer;display: block;width: 100%;margin-bottom: 0;padding: 0.3em;box-sizing: border-box;text-align: center;}#sk-container-id-4 label.sk-toggleable__label-arrow:before {content: \"▸\";float: left;margin-right: 0.25em;color: #696969;}#sk-container-id-4 label.sk-toggleable__label-arrow:hover:before {color: black;}#sk-container-id-4 div.sk-estimator:hover label.sk-toggleable__label-arrow:before {color: black;}#sk-container-id-4 div.sk-toggleable__content {max-height: 0;max-width: 0;overflow: hidden;text-align: left;background-color: #f0f8ff;}#sk-container-id-4 div.sk-toggleable__content pre {margin: 0.2em;color: black;border-radius: 0.25em;background-color: #f0f8ff;}#sk-container-id-4 input.sk-toggleable__control:checked~div.sk-toggleable__content {max-height: 200px;max-width: 100%;overflow: auto;}#sk-container-id-4 input.sk-toggleable__control:checked~label.sk-toggleable__label-arrow:before {content: \"▾\";}#sk-container-id-4 div.sk-estimator input.sk-toggleable__control:checked~label.sk-toggleable__label {background-color: #d4ebff;}#sk-container-id-4 div.sk-label input.sk-toggleable__control:checked~label.sk-toggleable__label {background-color: #d4ebff;}#sk-container-id-4 input.sk-hidden--visually {border: 0;clip: rect(1px 1px 1px 1px);clip: rect(1px, 1px, 1px, 1px);height: 1px;margin: -1px;overflow: hidden;padding: 0;position: absolute;width: 1px;}#sk-container-id-4 div.sk-estimator {font-family: monospace;background-color: #f0f8ff;border: 1px dotted black;border-radius: 0.25em;box-sizing: border-box;margin-bottom: 0.5em;}#sk-container-id-4 div.sk-estimator:hover {background-color: #d4ebff;}#sk-container-id-4 div.sk-parallel-item::after {content: \"\";width: 100%;border-bottom: 1px solid gray;flex-grow: 1;}#sk-container-id-4 div.sk-label:hover label.sk-toggleable__label {background-color: #d4ebff;}#sk-container-id-4 div.sk-serial::before {content: \"\";position: absolute;border-left: 1px solid gray;box-sizing: border-box;top: 0;bottom: 0;left: 50%;z-index: 0;}#sk-container-id-4 div.sk-serial {display: flex;flex-direction: column;align-items: center;background-color: white;padding-right: 0.2em;padding-left: 0.2em;position: relative;}#sk-container-id-4 div.sk-item {position: relative;z-index: 1;}#sk-container-id-4 div.sk-parallel {display: flex;align-items: stretch;justify-content: center;background-color: white;position: relative;}#sk-container-id-4 div.sk-item::before, #sk-container-id-4 div.sk-parallel-item::before {content: \"\";position: absolute;border-left: 1px solid gray;box-sizing: border-box;top: 0;bottom: 0;left: 50%;z-index: -1;}#sk-container-id-4 div.sk-parallel-item {display: flex;flex-direction: column;z-index: 1;position: relative;background-color: white;}#sk-container-id-4 div.sk-parallel-item:first-child::after {align-self: flex-end;width: 50%;}#sk-container-id-4 div.sk-parallel-item:last-child::after {align-self: flex-start;width: 50%;}#sk-container-id-4 div.sk-parallel-item:only-child::after {width: 0;}#sk-container-id-4 div.sk-dashed-wrapped {border: 1px dashed gray;margin: 0 0.4em 0.5em 0.4em;box-sizing: border-box;padding-bottom: 0.4em;background-color: white;}#sk-container-id-4 div.sk-label label {font-family: monospace;font-weight: bold;display: inline-block;line-height: 1.2em;}#sk-container-id-4 div.sk-label-container {text-align: center;}#sk-container-id-4 div.sk-container {/* jupyter's `normalize.less` sets `[hidden] { display: none; }` but bootstrap.min.css set `[hidden] { display: none !important; }` so we also need the `!important` here to be able to override the default hidden behavior on the sphinx rendered scikit-learn.org. See: https://github.com/scikit-learn/scikit-learn/issues/21755 */display: inline-block !important;position: relative;}#sk-container-id-4 div.sk-text-repr-fallback {display: none;}</style><div id=\"sk-container-id-4\" class=\"sk-top-container\"><div class=\"sk-text-repr-fallback\"><pre>RandomForestClassifier()</pre><b>In a Jupyter environment, please rerun this cell to show the HTML representation or trust the notebook. <br />On GitHub, the HTML representation is unable to render, please try loading this page with nbviewer.org.</b></div><div class=\"sk-container\" hidden><div class=\"sk-item\"><div class=\"sk-estimator sk-toggleable\"><input class=\"sk-toggleable__control sk-hidden--visually\" id=\"sk-estimator-id-4\" type=\"checkbox\" checked><label for=\"sk-estimator-id-4\" class=\"sk-toggleable__label sk-toggleable__label-arrow\">RandomForestClassifier</label><div class=\"sk-toggleable__content\"><pre>RandomForestClassifier()</pre></div></div></div></div></div>"
      ],
      "text/plain": [
       "RandomForestClassifier()"
      ]
     },
     "execution_count": 32,
     "metadata": {},
     "output_type": "execute_result"
    }
   ],
   "source": [
    "from sklearn.ensemble import RandomForestClassifier\n",
    "from sklearn.metrics import accuracy_score, classification_report, f1_score, precision_score, recall_score\n",
    "\n",
    "# Create a Random Forest classifier\n",
    "clf_rf = RandomForestClassifier()\n",
    "\n",
    "# Train the classifier on the training data\n",
    "clf_rf.fit(X_train, y_train)\n"
   ]
  },
  {
   "cell_type": "code",
   "execution_count": 33,
   "id": "726a92b3",
   "metadata": {},
   "outputs": [
    {
     "name": "stdout",
     "output_type": "stream",
     "text": [
      "Classification Report - Training Data:\n",
      "              precision    recall  f1-score   support\n",
      "\n",
      "           1       0.00      0.00      0.00         3\n",
      "           2       0.50      0.63      0.56       554\n",
      "           3       0.66      0.62      0.64      4223\n",
      "           4       0.81      0.91      0.86     18195\n",
      "           5       0.88      0.76      0.82     14309\n",
      "\n",
      "    accuracy                           0.81     37284\n",
      "   macro avg       0.57      0.58      0.58     37284\n",
      "weighted avg       0.82      0.81      0.81     37284\n",
      "\n",
      "Classification Report - Test Data:\n",
      "              precision    recall  f1-score   support\n",
      "\n",
      "           2       0.47      0.59      0.53       143\n",
      "           3       0.67      0.60      0.64      1100\n",
      "           4       0.82      0.91      0.86      4522\n",
      "           5       0.88      0.77      0.82      3557\n",
      "\n",
      "    accuracy                           0.82      9322\n",
      "   macro avg       0.71      0.72      0.71      9322\n",
      "weighted avg       0.82      0.82      0.81      9322\n",
      "\n"
     ]
    }
   ],
   "source": [
    "\n",
    "# Predict on the test data\n",
    "y_pred = clf_rf.predict(X_test)\n",
    "\n",
    "# Perform predictions on test data\n",
    "y_hat = clf_rf.predict(X_test)\n",
    "\n",
    "# Perform predictions on training data\n",
    "y_train_predict = clf_rf.predict(X_train)\n",
    "\n",
    "# Evaluate the model using classification metrics\n",
    "print(\"Classification Report - Training Data:\")\n",
    "print(classification_report(y_train, y_train_predict))  # Precision, recall, F1 scores, and accuracy\n",
    "\n",
    "print(\"Classification Report - Test Data:\")\n",
    "print(classification_report(y_test, y_hat))  # Precision, recall, F1 scores, and accuracy"
   ]
  },
  {
   "cell_type": "markdown",
   "id": "e40cda72",
   "metadata": {},
   "source": [
    "## MODEL COMPARISION REPORT FOR TASK 1"
   ]
  },
  {
   "cell_type": "markdown",
   "id": "923f421e",
   "metadata": {},
   "source": [
    "    Four machine learning models, Logistic Regression, Decision Tree, Support Vector Machine (SVM), and Random Forest Classifier, were evaluated on a classification task using training and test data. The classification task involves five classes (1 to 5). Below is a comparison of these models based on their performance metrics:\n",
    "\n",
    "1.Logistic Regression:\n",
    "Training Data:\n",
    "Accuracy: 0.64\n",
    "F1-score for class 4: 0.73\n",
    "F1-score for class 5: 0.59\n",
    "Test Data:\n",
    "Accuracy: 0.64\n",
    "F1-score for class 4: 0.73\n",
    "F1-score for class 5: 0.60\n",
    "\n",
    "2.Decision Tree:\n",
    "Training Data:\n",
    "Accuracy: 0.81\n",
    "F1-score for class 4: 0.86\n",
    "F1-score for class 5: 0.82\n",
    "Test Data:\n",
    "Accuracy: 0.82\n",
    "F1-score for class 4: 0.86\n",
    "F1-score for class 5: 0.82\n",
    "\n",
    "3.Support Vector Machine:\n",
    "Training Data:\n",
    "Accuracy: 0.73\n",
    "F1-score for class 4: 0.79\n",
    "F1-score for class 5: 0.74\n",
    "Test Data:\n",
    "Accuracy: 0.74\n",
    "F1-score for class 4: 0.79\n",
    "F1-score for class 5: 0.75\n",
    "\n",
    "4.Random Forest Classifier:\n",
    "Training Data:\n",
    "Accuracy: 0.81\n",
    "F1-score for class 4: 0.86\n",
    "F1-score for class 5: 0.82\n",
    "Test Data:\n",
    "Accuracy: 0.82\n",
    "F1-score for class 4: 0.86\n",
    "F1-score for class 5: 0.82\n",
    "\n",
    "Comparison:\n",
    "Accuracy:\n",
    "All models (Decision Tree, SVM, and Random Forest Classifier) outperformed Logistic Regression in terms of accuracy, with scores around 0.81-0.82, while Logistic Regression had an accuracy of 0.64.\n",
    "\n",
    "F1-scores:\n",
    "Decision Tree, SVM, and Random Forest Classifier consistently outperformed Logistic Regression in terms of F1-scores for class 4 and 5 in both training and test data. They achieved F1-scores of 0.86 and 0.82 for class 4 and 5, respectively, while Logistic Regression had lower F1-scores for these classes.\n",
    "\n",
    "Decision Tree vs. SVM vs. Random Forest: Decision Tree, SVM, and Random Forest Classifier showed similar performance, with nearly identical accuracy and F1-scores. Decision Tree had slightly better recall for class 2 on the test data.\n",
    "\n",
    "In summary, Decision Tree, SVM, and Random Forest Classifier appear to be more effective for this classification task compared to Logistic Regression, with Decision Tree having a slight edge in terms of overall performance. These models offer higher accuracy and better F1-scores, particularly for the more critical classes (class 4 and 5). The choice between Decision Tree, SVM, and Random Forest may depend on other considerations such as interpretability, computational resources, and the specific requirements of application."
   ]
  },
  {
   "cell_type": "markdown",
   "id": "4a21537f",
   "metadata": {},
   "source": [
    "# TASK 2"
   ]
  },
  {
   "cell_type": "markdown",
   "id": "18c7815b",
   "metadata": {},
   "source": [
    "### 2.2. Forecast the incident volume in different fields , quarterly and annual. So that they can be better prepared                 with resources and technology planning."
   ]
  },
  {
   "cell_type": "code",
   "execution_count": 34,
   "id": "7cca940c",
   "metadata": {},
   "outputs": [],
   "source": [
    "# Imporing the necessary columns\n",
    "frq_incident = df.loc[:,['Incident_ID','Open_Time']]"
   ]
  },
  {
   "cell_type": "code",
   "execution_count": 35,
   "id": "2227592e",
   "metadata": {},
   "outputs": [
    {
     "data": {
      "text/html": [
       "<div>\n",
       "<style scoped>\n",
       "    .dataframe tbody tr th:only-of-type {\n",
       "        vertical-align: middle;\n",
       "    }\n",
       "\n",
       "    .dataframe tbody tr th {\n",
       "        vertical-align: top;\n",
       "    }\n",
       "\n",
       "    .dataframe thead th {\n",
       "        text-align: right;\n",
       "    }\n",
       "</style>\n",
       "<table border=\"1\" class=\"dataframe\">\n",
       "  <thead>\n",
       "    <tr style=\"text-align: right;\">\n",
       "      <th></th>\n",
       "      <th>Incident_ID</th>\n",
       "      <th>Open_Time</th>\n",
       "    </tr>\n",
       "  </thead>\n",
       "  <tbody>\n",
       "    <tr>\n",
       "      <th>0</th>\n",
       "      <td>IM0000004</td>\n",
       "      <td>05-02-2012 13:32</td>\n",
       "    </tr>\n",
       "    <tr>\n",
       "      <th>1</th>\n",
       "      <td>IM0000005</td>\n",
       "      <td>12-03-2012 15:44</td>\n",
       "    </tr>\n",
       "    <tr>\n",
       "      <th>2</th>\n",
       "      <td>IM0000006</td>\n",
       "      <td>29-03-2012 12:36</td>\n",
       "    </tr>\n",
       "    <tr>\n",
       "      <th>3</th>\n",
       "      <td>IM0000011</td>\n",
       "      <td>17-07-2012 11:49</td>\n",
       "    </tr>\n",
       "    <tr>\n",
       "      <th>4</th>\n",
       "      <td>IM0000012</td>\n",
       "      <td>10-08-2012 11:01</td>\n",
       "    </tr>\n",
       "  </tbody>\n",
       "</table>\n",
       "</div>"
      ],
      "text/plain": [
       "  Incident_ID         Open_Time\n",
       "0   IM0000004  05-02-2012 13:32\n",
       "1   IM0000005  12-03-2012 15:44\n",
       "2   IM0000006  29-03-2012 12:36\n",
       "3   IM0000011  17-07-2012 11:49\n",
       "4   IM0000012  10-08-2012 11:01"
      ]
     },
     "execution_count": 35,
     "metadata": {},
     "output_type": "execute_result"
    }
   ],
   "source": [
    "# Display the first few rows of the frq_incident DataFrame\n",
    "frq_incident.head()"
   ]
  },
  {
   "cell_type": "code",
   "execution_count": 36,
   "id": "6c383121",
   "metadata": {},
   "outputs": [],
   "source": [
    "# Coverting all the values in proper Datetime format\n",
    "for i in range(len(frq_incident.Open_Time)):\n",
    "    if (frq_incident.Open_Time[i][1]=='/'):\n",
    "        frq_incident.Open_Time[i] = dt.datetime.strptime(frq_incident.Open_Time[i],'%d/%m/%Y %H:%M').date()\n",
    "    elif (frq_incident.Open_Time[i][2]=='/'):\n",
    "        frq_incident.Open_Time[i] = dt.datetime.strptime(frq_incident.Open_Time[i],'%d/%m/%Y %H:%M').date()\n",
    "    else:\n",
    "        frq_incident.Open_Time[i] = dt.datetime.strptime(frq_incident.Open_Time[i],'%d-%m-%Y %H:%M').date()"
   ]
  },
  {
   "cell_type": "code",
   "execution_count": 37,
   "id": "ebfed7c6",
   "metadata": {},
   "outputs": [
    {
     "data": {
      "text/html": [
       "<div>\n",
       "<style scoped>\n",
       "    .dataframe tbody tr th:only-of-type {\n",
       "        vertical-align: middle;\n",
       "    }\n",
       "\n",
       "    .dataframe tbody tr th {\n",
       "        vertical-align: top;\n",
       "    }\n",
       "\n",
       "    .dataframe thead th {\n",
       "        text-align: right;\n",
       "    }\n",
       "</style>\n",
       "<table border=\"1\" class=\"dataframe\">\n",
       "  <thead>\n",
       "    <tr style=\"text-align: right;\">\n",
       "      <th></th>\n",
       "      <th>Incident_ID</th>\n",
       "      <th>Open_Time</th>\n",
       "    </tr>\n",
       "  </thead>\n",
       "  <tbody>\n",
       "    <tr>\n",
       "      <th>0</th>\n",
       "      <td>IM0000004</td>\n",
       "      <td>2012-02-05</td>\n",
       "    </tr>\n",
       "    <tr>\n",
       "      <th>1</th>\n",
       "      <td>IM0000005</td>\n",
       "      <td>2012-03-12</td>\n",
       "    </tr>\n",
       "    <tr>\n",
       "      <th>2</th>\n",
       "      <td>IM0000006</td>\n",
       "      <td>2012-03-29</td>\n",
       "    </tr>\n",
       "    <tr>\n",
       "      <th>3</th>\n",
       "      <td>IM0000011</td>\n",
       "      <td>2012-07-17</td>\n",
       "    </tr>\n",
       "    <tr>\n",
       "      <th>4</th>\n",
       "      <td>IM0000012</td>\n",
       "      <td>2012-08-10</td>\n",
       "    </tr>\n",
       "  </tbody>\n",
       "</table>\n",
       "</div>"
      ],
      "text/plain": [
       "  Incident_ID   Open_Time\n",
       "0   IM0000004  2012-02-05\n",
       "1   IM0000005  2012-03-12\n",
       "2   IM0000006  2012-03-29\n",
       "3   IM0000011  2012-07-17\n",
       "4   IM0000012  2012-08-10"
      ]
     },
     "execution_count": 37,
     "metadata": {},
     "output_type": "execute_result"
    }
   ],
   "source": [
    "# Display the first few rows of the frq_incident DataFrame\n",
    "frq_incident.head()"
   ]
  },
  {
   "cell_type": "code",
   "execution_count": 38,
   "id": "31af9e35",
   "metadata": {},
   "outputs": [],
   "source": [
    "# Adding a new column which will have the number of tickets per day\n",
    "frq_incident['No_Incidents'] = frq_incident.groupby('Open_Time')['Incident_ID'].transform('count')"
   ]
  },
  {
   "cell_type": "code",
   "execution_count": 39,
   "id": "0e3fa242",
   "metadata": {},
   "outputs": [],
   "source": [
    "# Remove the 'Incident_ID' column from the 'frq_incident' DataFrame.\n",
    "frq_incident.drop(['Incident_ID'], axis=1, inplace=True)\n",
    "\n",
    "# Remove duplicate rows from the 'frq_incident' DataFrame.\n",
    "frq_incident.drop_duplicates(inplace=True)"
   ]
  },
  {
   "cell_type": "code",
   "execution_count": 40,
   "id": "2bed99d7",
   "metadata": {},
   "outputs": [
    {
     "data": {
      "text/html": [
       "<div>\n",
       "<style scoped>\n",
       "    .dataframe tbody tr th:only-of-type {\n",
       "        vertical-align: middle;\n",
       "    }\n",
       "\n",
       "    .dataframe tbody tr th {\n",
       "        vertical-align: top;\n",
       "    }\n",
       "\n",
       "    .dataframe thead th {\n",
       "        text-align: right;\n",
       "    }\n",
       "</style>\n",
       "<table border=\"1\" class=\"dataframe\">\n",
       "  <thead>\n",
       "    <tr style=\"text-align: right;\">\n",
       "      <th></th>\n",
       "      <th>Open_Time</th>\n",
       "      <th>No_Incidents</th>\n",
       "    </tr>\n",
       "  </thead>\n",
       "  <tbody>\n",
       "    <tr>\n",
       "      <th>0</th>\n",
       "      <td>2012-02-05</td>\n",
       "      <td>1</td>\n",
       "    </tr>\n",
       "    <tr>\n",
       "      <th>1</th>\n",
       "      <td>2012-03-12</td>\n",
       "      <td>1</td>\n",
       "    </tr>\n",
       "    <tr>\n",
       "      <th>2</th>\n",
       "      <td>2012-03-29</td>\n",
       "      <td>1</td>\n",
       "    </tr>\n",
       "    <tr>\n",
       "      <th>3</th>\n",
       "      <td>2012-07-17</td>\n",
       "      <td>1</td>\n",
       "    </tr>\n",
       "    <tr>\n",
       "      <th>4</th>\n",
       "      <td>2012-08-10</td>\n",
       "      <td>2</td>\n",
       "    </tr>\n",
       "  </tbody>\n",
       "</table>\n",
       "</div>"
      ],
      "text/plain": [
       "    Open_Time  No_Incidents\n",
       "0  2012-02-05             1\n",
       "1  2012-03-12             1\n",
       "2  2012-03-29             1\n",
       "3  2012-07-17             1\n",
       "4  2012-08-10             2"
      ]
     },
     "execution_count": 40,
     "metadata": {},
     "output_type": "execute_result"
    }
   ],
   "source": [
    "# Display the first few rows of the frq_incident DataFrame\n",
    "frq_incident.head()"
   ]
  },
  {
   "cell_type": "code",
   "execution_count": 41,
   "id": "1429dec7",
   "metadata": {},
   "outputs": [
    {
     "data": {
      "text/plain": [
       "(331, 2)"
      ]
     },
     "execution_count": 41,
     "metadata": {},
     "output_type": "execute_result"
    }
   ],
   "source": [
    "frq_incident.shape"
   ]
  },
  {
   "cell_type": "code",
   "execution_count": 42,
   "id": "d1f9d3cb",
   "metadata": {},
   "outputs": [],
   "source": [
    "# Renaming columns in the DataFrame 'frq_incident' for Prophet model compatibility.\n",
    "frq_incident.rename(columns={'Open_Time': 'ds', 'No_Incidents': 'y'}, inplace=True)\n"
   ]
  },
  {
   "cell_type": "code",
   "execution_count": 43,
   "id": "daf24afd",
   "metadata": {},
   "outputs": [],
   "source": [
    "#pip install prophet"
   ]
  },
  {
   "cell_type": "code",
   "execution_count": 44,
   "id": "594896d3",
   "metadata": {},
   "outputs": [
    {
     "name": "stderr",
     "output_type": "stream",
     "text": [
      "10:31:17 - cmdstanpy - INFO - Chain [1] start processing\n",
      "10:31:17 - cmdstanpy - INFO - Chain [1] done processing\n"
     ]
    },
    {
     "data": {
      "image/png": "[encoded data removed]",
      "text/plain": [
       "<Figure size 1000x600 with 1 Axes>"
      ]
     },
     "metadata": {},
     "output_type": "display_data"
    }
   ],
   "source": [
    "\n",
    "from prophet import Prophet\n",
    "import matplotlib.pyplot as plt\n",
    "\n",
    "\n",
    "# Create a Prophet model\n",
    "model = Prophet()\n",
    "\n",
    "# Fit the model with your data\n",
    "model.fit(frq_incident)\n",
    "\n",
    "# Create a DataFrame with future dates for forecasting\n",
    "future = model.make_future_dataframe(periods=365)  # \n",
    "\n",
    "# Make predictions for the future dates\n",
    "forecast = model.predict(future)\n",
    "\n",
    "# Plot the forecast\n",
    "fig = model.plot(forecast)\n",
    "plt.title('Incident Volume Forecast')\n",
    "plt.xlabel('Date')\n",
    "plt.ylabel('Incident Volume')\n",
    "plt.show()"
   ]
  },
  {
   "cell_type": "code",
   "execution_count": 45,
   "id": "269ce895",
   "metadata": {},
   "outputs": [
    {
     "name": "stderr",
     "output_type": "stream",
     "text": [
      "Seasonality has period of 365.25 days which is larger than initial window. Consider increasing initial.\n"
     ]
    },
    {
     "data": {
      "application/vnd.jupyter.widget-view+json": {
       "model_id": "106e7c6f83c14668a02113666fea10ae",
       "version_major": 2,
       "version_minor": 0
      },
      "text/plain": [
       "  0%|          | 0/13 [00:00<?, ?it/s]"
      ]
     },
     "metadata": {},
     "output_type": "display_data"
    },
    {
     "name": "stderr",
     "output_type": "stream",
     "text": [
      "10:31:19 - cmdstanpy - INFO - Chain [1] start processing\n",
      "10:31:38 - cmdstanpy - INFO - Chain [1] done processing\n",
      "10:31:38 - cmdstanpy - INFO - Chain [1] start processing\n",
      "10:31:39 - cmdstanpy - INFO - Chain [1] done processing\n",
      "10:31:39 - cmdstanpy - INFO - Chain [1] start processing\n",
      "10:31:39 - cmdstanpy - INFO - Chain [1] done processing\n",
      "10:31:39 - cmdstanpy - INFO - Chain [1] start processing\n",
      "10:31:40 - cmdstanpy - INFO - Chain [1] done processing\n",
      "10:31:40 - cmdstanpy - INFO - Chain [1] start processing\n",
      "10:31:40 - cmdstanpy - INFO - Chain [1] done processing\n",
      "10:31:41 - cmdstanpy - INFO - Chain [1] start processing\n",
      "10:31:41 - cmdstanpy - INFO - Chain [1] done processing\n",
      "10:31:42 - cmdstanpy - INFO - Chain [1] start processing\n",
      "10:31:42 - cmdstanpy - INFO - Chain [1] done processing\n",
      "10:31:42 - cmdstanpy - INFO - Chain [1] start processing\n",
      "10:31:42 - cmdstanpy - INFO - Chain [1] done processing\n",
      "10:31:43 - cmdstanpy - INFO - Chain [1] start processing\n",
      "10:31:43 - cmdstanpy - INFO - Chain [1] done processing\n",
      "10:31:43 - cmdstanpy - INFO - Chain [1] start processing\n",
      "10:31:43 - cmdstanpy - INFO - Chain [1] done processing\n",
      "10:31:44 - cmdstanpy - INFO - Chain [1] start processing\n",
      "10:31:44 - cmdstanpy - INFO - Chain [1] done processing\n",
      "10:31:44 - cmdstanpy - INFO - Chain [1] start processing\n",
      "10:31:44 - cmdstanpy - INFO - Chain [1] done processing\n",
      "10:31:45 - cmdstanpy - INFO - Chain [1] start processing\n",
      "10:31:45 - cmdstanpy - INFO - Chain [1] done processing\n"
     ]
    },
    {
     "name": "stdout",
     "output_type": "stream",
     "text": [
      "   horizon           mse        rmse         mae      mape     mdape  \\\n",
      "0  11 days   7705.073793   87.778550   54.243155  5.703105  0.472364   \n",
      "1  12 days   8418.100419   91.750207   55.544872  6.672730  0.491676   \n",
      "2  13 days   9185.562331   95.841339   56.728175  6.657297  0.546093   \n",
      "3  14 days   8657.492532   93.045648   54.757792  5.484775  0.565111   \n",
      "4  15 days   8593.959584   92.703611   54.416102  3.872442  0.530264   \n",
      "..     ...           ...         ...         ...       ...       ...   \n",
      "75 86 days  25782.502112  160.569306  102.100574  7.922837  0.986237   \n",
      "76 87 days  26854.771889  163.874256  105.923791  7.853918  0.986752   \n",
      "77 88 days  26377.212811  162.410630  105.555169  8.068029  0.987610   \n",
      "78 89 days  27419.844423  165.589385  107.070133  7.592209  0.987278   \n",
      "79 90 days  28584.310649  169.068952  109.711970  6.881208  0.986835   \n",
      "\n",
      "       smape  coverage  \n",
      "0   0.780942  0.275261  \n",
      "1   0.815621  0.268293  \n",
      "2   0.841056  0.288618  \n",
      "3   0.865531  0.296748  \n",
      "4   0.877697  0.308943  \n",
      "..       ...       ...  \n",
      "75  1.267094  0.209756  \n",
      "76  1.296815  0.202439  \n",
      "77  1.321411  0.210643  \n",
      "78  1.301299  0.202439  \n",
      "79  1.307605  0.178049  \n",
      "\n",
      "[80 rows x 8 columns]\n"
     ]
    }
   ],
   "source": [
    "from prophet.diagnostics import cross_validation, performance_metrics\n",
    "# Perform cross-validation and calculate performance metrics for the Prophet model.\n",
    "df_cv = cross_validation(model, horizon='90 days', period='30 days', initial='331 days')\n",
    "performance = performance_metrics(df_cv)\n",
    "print(performance)\n"
   ]
  },
  {
   "cell_type": "code",
   "execution_count": 46,
   "id": "0701d869",
   "metadata": {},
   "outputs": [
    {
     "data": {
      "image/png": "[encoded data removed]",
      "text/plain": [
       "<Figure size 900x900 with 3 Axes>"
      ]
     },
     "metadata": {},
     "output_type": "display_data"
    }
   ],
   "source": [
    "# Plot components of the forecasted data using the Prophet model and display the plot.\n",
    "model.plot_components(forecast)\n",
    "plt.show()\n"
   ]
  },
  {
   "cell_type": "markdown",
   "id": "bd66a4a9",
   "metadata": {},
   "source": [
    "TASK 2:\n",
    "-Based on the provided data for the years 2012, 2013, and 2014, the number of incidents increased after the year 2014, and the number of incidents seems going up after that.\n",
    "-Based on the provided data, the number of incidents has been high through the weekdays."
   ]
  },
  {
   "cell_type": "markdown",
   "id": "6ebdcd56",
   "metadata": {},
   "source": [
    "# TASK 3"
   ]
  },
  {
   "cell_type": "markdown",
   "id": "30045969",
   "metadata": {},
   "source": [
    "### 3.  Auto tag the tickets with right priorities and right departments so that reassigning and related delay can be               reduced."
   ]
  },
  {
   "cell_type": "raw",
   "id": "f243fd93",
   "metadata": {},
   "source": [
    "          All the features are not necessary to predict Sub category. The following features such as 'CI_Cat','WBS','Incident_ID','Category','Impact','Urgency','Priority'are necessary to predict 'CI_Subcat'."
   ]
  },
  {
   "cell_type": "code",
   "execution_count": 47,
   "id": "82779941",
   "metadata": {},
   "outputs": [],
   "source": [
    "from sklearn.preprocessing import LabelEncoder  # Import LabelEncoder from scikit-learn\n",
    "lc = LabelEncoder()  # Create a LabelEncoder object\n",
    "\n",
    "df.CI_Cat = lc.fit_transform(df.CI_Cat)  # Encode the 'CI_Cat' column\n",
    "df.WBS = lc.fit_transform(df.WBS)  # Encode the 'WBS' column\n",
    "df.Category = lc.fit_transform(df.Category)  # Encode the 'Category' column\n",
    "df.Incident_ID = lc.fit_transform(df.Incident_ID)  # Encode the 'Incident_ID' column\n",
    "df.CI_Subcat = lc.fit_transform(df.CI_Subcat)  # Encode the 'CI_Subcat' column\n",
    "df.Impact = lc.fit_transform(df.Impact)  # Encode the 'Impact' column\n",
    "df.Urgency = lc.fit_transform(df.Urgency)  # Encode the 'Urgency' column\n",
    "df.Priority = lc.fit_transform(df.Priority)  # Encode the 'Priority' column\n"
   ]
  },
  {
   "cell_type": "code",
   "execution_count": 48,
   "id": "d247ed98",
   "metadata": {},
   "outputs": [],
   "source": [
    "# Select specific columns 'CI_Cat', 'WBS', 'Incident_ID', 'Category', 'Impact', 'Urgency', 'Priority' from the DataFrame and assign it to X2.\n",
    "X2 = df.loc[:,['CI_Cat','WBS','Incident_ID','Category','Impact','Urgency','Priority']]\n",
    "\n",
    "# Assign the 'CI_Subcat' column from the DataFrame to Y2.\n",
    "Y2 = df.CI_Subcat\n"
   ]
  },
  {
   "cell_type": "code",
   "execution_count": 49,
   "id": "202307a9",
   "metadata": {},
   "outputs": [],
   "source": [
    "## Creating training and testing data.\n",
    "from sklearn.model_selection import train_test_split\n",
    "X_train,X_test,y_train,y_test=train_test_split(X2,Y2,test_size=0.2,random_state=42)"
   ]
  },
  {
   "cell_type": "code",
   "execution_count": 50,
   "id": "c57d3a6f",
   "metadata": {},
   "outputs": [],
   "source": [
    "# Standardization technique\n",
    "from sklearn.preprocessing import StandardScaler\n",
    "sc = StandardScaler()\n",
    "X_train = sc.fit_transform(X_train)\n",
    "X_test = sc.transform(X_test)"
   ]
  },
  {
   "cell_type": "markdown",
   "id": "16fa6f33",
   "metadata": {},
   "source": [
    "## DecisionTree"
   ]
  },
  {
   "cell_type": "code",
   "execution_count": 51,
   "id": "297d0cbf",
   "metadata": {},
   "outputs": [
    {
     "data": {
      "text/html": [
       "<style>#sk-container-id-5 {color: black;}#sk-container-id-5 pre{padding: 0;}#sk-container-id-5 div.sk-toggleable {background-color: white;}#sk-container-id-5 label.sk-toggleable__label {cursor: pointer;display: block;width: 100%;margin-bottom: 0;padding: 0.3em;box-sizing: border-box;text-align: center;}#sk-container-id-5 label.sk-toggleable__label-arrow:before {content: \"▸\";float: left;margin-right: 0.25em;color: #696969;}#sk-container-id-5 label.sk-toggleable__label-arrow:hover:before {color: black;}#sk-container-id-5 div.sk-estimator:hover label.sk-toggleable__label-arrow:before {color: black;}#sk-container-id-5 div.sk-toggleable__content {max-height: 0;max-width: 0;overflow: hidden;text-align: left;background-color: #f0f8ff;}#sk-container-id-5 div.sk-toggleable__content pre {margin: 0.2em;color: black;border-radius: 0.25em;background-color: #f0f8ff;}#sk-container-id-5 input.sk-toggleable__control:checked~div.sk-toggleable__content {max-height: 200px;max-width: 100%;overflow: auto;}#sk-container-id-5 input.sk-toggleable__control:checked~label.sk-toggleable__label-arrow:before {content: \"▾\";}#sk-container-id-5 div.sk-estimator input.sk-toggleable__control:checked~label.sk-toggleable__label {background-color: #d4ebff;}#sk-container-id-5 div.sk-label input.sk-toggleable__control:checked~label.sk-toggleable__label {background-color: #d4ebff;}#sk-container-id-5 input.sk-hidden--visually {border: 0;clip: rect(1px 1px 1px 1px);clip: rect(1px, 1px, 1px, 1px);height: 1px;margin: -1px;overflow: hidden;padding: 0;position: absolute;width: 1px;}#sk-container-id-5 div.sk-estimator {font-family: monospace;background-color: #f0f8ff;border: 1px dotted black;border-radius: 0.25em;box-sizing: border-box;margin-bottom: 0.5em;}#sk-container-id-5 div.sk-estimator:hover {background-color: #d4ebff;}#sk-container-id-5 div.sk-parallel-item::after {content: \"\";width: 100%;border-bottom: 1px solid gray;flex-grow: 1;}#sk-container-id-5 div.sk-label:hover label.sk-toggleable__label {background-color: #d4ebff;}#sk-container-id-5 div.sk-serial::before {content: \"\";position: absolute;border-left: 1px solid gray;box-sizing: border-box;top: 0;bottom: 0;left: 50%;z-index: 0;}#sk-container-id-5 div.sk-serial {display: flex;flex-direction: column;align-items: center;background-color: white;padding-right: 0.2em;padding-left: 0.2em;position: relative;}#sk-container-id-5 div.sk-item {position: relative;z-index: 1;}#sk-container-id-5 div.sk-parallel {display: flex;align-items: stretch;justify-content: center;background-color: white;position: relative;}#sk-container-id-5 div.sk-item::before, #sk-container-id-5 div.sk-parallel-item::before {content: \"\";position: absolute;border-left: 1px solid gray;box-sizing: border-box;top: 0;bottom: 0;left: 50%;z-index: -1;}#sk-container-id-5 div.sk-parallel-item {display: flex;flex-direction: column;z-index: 1;position: relative;background-color: white;}#sk-container-id-5 div.sk-parallel-item:first-child::after {align-self: flex-end;width: 50%;}#sk-container-id-5 div.sk-parallel-item:last-child::after {align-self: flex-start;width: 50%;}#sk-container-id-5 div.sk-parallel-item:only-child::after {width: 0;}#sk-container-id-5 div.sk-dashed-wrapped {border: 1px dashed gray;margin: 0 0.4em 0.5em 0.4em;box-sizing: border-box;padding-bottom: 0.4em;background-color: white;}#sk-container-id-5 div.sk-label label {font-family: monospace;font-weight: bold;display: inline-block;line-height: 1.2em;}#sk-container-id-5 div.sk-label-container {text-align: center;}#sk-container-id-5 div.sk-container {/* jupyter's `normalize.less` sets `[hidden] { display: none; }` but bootstrap.min.css set `[hidden] { display: none !important; }` so we also need the `!important` here to be able to override the default hidden behavior on the sphinx rendered scikit-learn.org. See: https://github.com/scikit-learn/scikit-learn/issues/21755 */display: inline-block !important;position: relative;}#sk-container-id-5 div.sk-text-repr-fallback {display: none;}</style><div id=\"sk-container-id-5\" class=\"sk-top-container\"><div class=\"sk-text-repr-fallback\"><pre>DecisionTreeClassifier()</pre><b>In a Jupyter environment, please rerun this cell to show the HTML representation or trust the notebook. <br />On GitHub, the HTML representation is unable to render, please try loading this page with nbviewer.org.</b></div><div class=\"sk-container\" hidden><div class=\"sk-item\"><div class=\"sk-estimator sk-toggleable\"><input class=\"sk-toggleable__control sk-hidden--visually\" id=\"sk-estimator-id-5\" type=\"checkbox\" checked><label for=\"sk-estimator-id-5\" class=\"sk-toggleable__label sk-toggleable__label-arrow\">DecisionTreeClassifier</label><div class=\"sk-toggleable__content\"><pre>DecisionTreeClassifier()</pre></div></div></div></div></div>"
      ],
      "text/plain": [
       "DecisionTreeClassifier()"
      ]
     },
     "execution_count": 51,
     "metadata": {},
     "output_type": "execute_result"
    }
   ],
   "source": [
    "from sklearn.tree import DecisionTreeClassifier\n",
    "from sklearn.metrics import accuracy_score, classification_report, f1_score\n",
    "\n",
    "# Create a Decision Tree classifier\n",
    "clf_dt = DecisionTreeClassifier()\n",
    "\n",
    "# Train the classifier on the training data\n",
    "clf_dt.fit(X_train, y_train)"
   ]
  },
  {
   "cell_type": "code",
   "execution_count": 52,
   "id": "07345433",
   "metadata": {},
   "outputs": [
    {
     "name": "stdout",
     "output_type": "stream",
     "text": [
      "Decision Tree - Classification Report - Training Data:\n",
      "              precision    recall  f1-score   support\n",
      "\n",
      "           0       1.00      1.00      1.00        85\n",
      "           1       1.00      1.00      1.00       731\n",
      "           2       1.00      1.00      1.00       453\n",
      "           3       1.00      1.00      1.00       115\n",
      "           4       1.00      1.00      1.00       460\n",
      "           5       1.00      1.00      1.00      3415\n",
      "           6       1.00      1.00      1.00       110\n",
      "           7       1.00      1.00      1.00        19\n",
      "           8       1.00      1.00      1.00      1520\n",
      "           9       1.00      1.00      1.00       172\n",
      "          10       1.00      1.00      1.00        41\n",
      "          11       1.00      1.00      1.00        72\n",
      "          12       1.00      1.00      1.00       435\n",
      "          13       1.00      1.00      1.00        52\n",
      "          14       1.00      1.00      1.00     15309\n",
      "          15       1.00      1.00      1.00        46\n",
      "          16       1.00      1.00      1.00      1852\n",
      "          17       1.00      1.00      1.00     12397\n",
      "\n",
      "    accuracy                           1.00     37284\n",
      "   macro avg       1.00      1.00      1.00     37284\n",
      "weighted avg       1.00      1.00      1.00     37284\n",
      "\n",
      "Decision Tree - Classification Report - Test Data:\n",
      "              precision    recall  f1-score   support\n",
      "\n",
      "           0       0.96      0.92      0.94        26\n",
      "           1       1.00      1.00      1.00       186\n",
      "           2       0.42      0.40      0.41       126\n",
      "           3       0.97      1.00      0.98        31\n",
      "           4       0.97      0.99      0.98       110\n",
      "           5       0.89      0.90      0.90       884\n",
      "           6       0.36      0.50      0.42        20\n",
      "           7       0.86      0.75      0.80         8\n",
      "           8       0.85      0.82      0.84       401\n",
      "           9       0.93      0.97      0.95        40\n",
      "          10       0.69      0.90      0.78        10\n",
      "          11       0.93      0.81      0.87        16\n",
      "          12       0.99      0.98      0.99       114\n",
      "          13       0.79      0.92      0.85        12\n",
      "          14       0.90      0.88      0.89      3788\n",
      "          15       0.78      0.50      0.61        14\n",
      "          16       0.99      0.99      0.99       511\n",
      "          17       0.86      0.87      0.86      3025\n",
      "\n",
      "    accuracy                           0.88      9322\n",
      "   macro avg       0.84      0.84      0.84      9322\n",
      "weighted avg       0.88      0.88      0.88      9322\n",
      "\n"
     ]
    }
   ],
   "source": [
    "# Predict on the test data\n",
    "y_pred_dt = clf_dt.predict(X_test)\n",
    "\n",
    "# Perform predictions on training data\n",
    "y_train_predict_dt = clf_dt.predict(X_train)\n",
    "\n",
    "# Evaluate the Decision Tree model using classification metrics\n",
    "print(\"Decision Tree - Classification Report - Training Data:\")\n",
    "print(classification_report(y_train, y_train_predict_dt))  # Precision, recall, F1 scores, and accuracy\n",
    "\n",
    "print(\"Decision Tree - Classification Report - Test Data:\")\n",
    "print(classification_report(y_test, y_pred_dt))  # Precision, recall, F1 scores, and accuracy"
   ]
  },
  {
   "cell_type": "markdown",
   "id": "7cb8d64c",
   "metadata": {},
   "source": [
    "### Support Vector Machine"
   ]
  },
  {
   "cell_type": "code",
   "execution_count": 53,
   "id": "0c33253c",
   "metadata": {},
   "outputs": [
    {
     "data": {
      "text/html": [
       "<style>#sk-container-id-6 {color: black;}#sk-container-id-6 pre{padding: 0;}#sk-container-id-6 div.sk-toggleable {background-color: white;}#sk-container-id-6 label.sk-toggleable__label {cursor: pointer;display: block;width: 100%;margin-bottom: 0;padding: 0.3em;box-sizing: border-box;text-align: center;}#sk-container-id-6 label.sk-toggleable__label-arrow:before {content: \"▸\";float: left;margin-right: 0.25em;color: #696969;}#sk-container-id-6 label.sk-toggleable__label-arrow:hover:before {color: black;}#sk-container-id-6 div.sk-estimator:hover label.sk-toggleable__label-arrow:before {color: black;}#sk-container-id-6 div.sk-toggleable__content {max-height: 0;max-width: 0;overflow: hidden;text-align: left;background-color: #f0f8ff;}#sk-container-id-6 div.sk-toggleable__content pre {margin: 0.2em;color: black;border-radius: 0.25em;background-color: #f0f8ff;}#sk-container-id-6 input.sk-toggleable__control:checked~div.sk-toggleable__content {max-height: 200px;max-width: 100%;overflow: auto;}#sk-container-id-6 input.sk-toggleable__control:checked~label.sk-toggleable__label-arrow:before {content: \"▾\";}#sk-container-id-6 div.sk-estimator input.sk-toggleable__control:checked~label.sk-toggleable__label {background-color: #d4ebff;}#sk-container-id-6 div.sk-label input.sk-toggleable__control:checked~label.sk-toggleable__label {background-color: #d4ebff;}#sk-container-id-6 input.sk-hidden--visually {border: 0;clip: rect(1px 1px 1px 1px);clip: rect(1px, 1px, 1px, 1px);height: 1px;margin: -1px;overflow: hidden;padding: 0;position: absolute;width: 1px;}#sk-container-id-6 div.sk-estimator {font-family: monospace;background-color: #f0f8ff;border: 1px dotted black;border-radius: 0.25em;box-sizing: border-box;margin-bottom: 0.5em;}#sk-container-id-6 div.sk-estimator:hover {background-color: #d4ebff;}#sk-container-id-6 div.sk-parallel-item::after {content: \"\";width: 100%;border-bottom: 1px solid gray;flex-grow: 1;}#sk-container-id-6 div.sk-label:hover label.sk-toggleable__label {background-color: #d4ebff;}#sk-container-id-6 div.sk-serial::before {content: \"\";position: absolute;border-left: 1px solid gray;box-sizing: border-box;top: 0;bottom: 0;left: 50%;z-index: 0;}#sk-container-id-6 div.sk-serial {display: flex;flex-direction: column;align-items: center;background-color: white;padding-right: 0.2em;padding-left: 0.2em;position: relative;}#sk-container-id-6 div.sk-item {position: relative;z-index: 1;}#sk-container-id-6 div.sk-parallel {display: flex;align-items: stretch;justify-content: center;background-color: white;position: relative;}#sk-container-id-6 div.sk-item::before, #sk-container-id-6 div.sk-parallel-item::before {content: \"\";position: absolute;border-left: 1px solid gray;box-sizing: border-box;top: 0;bottom: 0;left: 50%;z-index: -1;}#sk-container-id-6 div.sk-parallel-item {display: flex;flex-direction: column;z-index: 1;position: relative;background-color: white;}#sk-container-id-6 div.sk-parallel-item:first-child::after {align-self: flex-end;width: 50%;}#sk-container-id-6 div.sk-parallel-item:last-child::after {align-self: flex-start;width: 50%;}#sk-container-id-6 div.sk-parallel-item:only-child::after {width: 0;}#sk-container-id-6 div.sk-dashed-wrapped {border: 1px dashed gray;margin: 0 0.4em 0.5em 0.4em;box-sizing: border-box;padding-bottom: 0.4em;background-color: white;}#sk-container-id-6 div.sk-label label {font-family: monospace;font-weight: bold;display: inline-block;line-height: 1.2em;}#sk-container-id-6 div.sk-label-container {text-align: center;}#sk-container-id-6 div.sk-container {/* jupyter's `normalize.less` sets `[hidden] { display: none; }` but bootstrap.min.css set `[hidden] { display: none !important; }` so we also need the `!important` here to be able to override the default hidden behavior on the sphinx rendered scikit-learn.org. See: https://github.com/scikit-learn/scikit-learn/issues/21755 */display: inline-block !important;position: relative;}#sk-container-id-6 div.sk-text-repr-fallback {display: none;}</style><div id=\"sk-container-id-6\" class=\"sk-top-container\"><div class=\"sk-text-repr-fallback\"><pre>SVC()</pre><b>In a Jupyter environment, please rerun this cell to show the HTML representation or trust the notebook. <br />On GitHub, the HTML representation is unable to render, please try loading this page with nbviewer.org.</b></div><div class=\"sk-container\" hidden><div class=\"sk-item\"><div class=\"sk-estimator sk-toggleable\"><input class=\"sk-toggleable__control sk-hidden--visually\" id=\"sk-estimator-id-6\" type=\"checkbox\" checked><label for=\"sk-estimator-id-6\" class=\"sk-toggleable__label sk-toggleable__label-arrow\">SVC</label><div class=\"sk-toggleable__content\"><pre>SVC()</pre></div></div></div></div></div>"
      ],
      "text/plain": [
       "SVC()"
      ]
     },
     "execution_count": 53,
     "metadata": {},
     "output_type": "execute_result"
    }
   ],
   "source": [
    "from sklearn.svm import SVC\n",
    "from sklearn.metrics import accuracy_score, classification_report, f1_score,precision_score,recall_score\n",
    "\n",
    "# Create an SVM classifier\n",
    "clf_svc = SVC()\n",
    "\n",
    "# Train the classifier on the training data\n",
    "clf_svc.fit(X_train, y_train)"
   ]
  },
  {
   "cell_type": "code",
   "execution_count": 54,
   "id": "a09f1146",
   "metadata": {},
   "outputs": [
    {
     "name": "stdout",
     "output_type": "stream",
     "text": [
      "Classification Report - Training Data:\n",
      "              precision    recall  f1-score   support\n",
      "\n",
      "           0       0.00      0.00      0.00        85\n",
      "           1       0.78      0.89      0.83       731\n",
      "           2       0.72      0.09      0.15       453\n",
      "           3       0.62      0.91      0.74       115\n",
      "           4       0.77      0.80      0.78       460\n",
      "           5       0.53      0.33      0.41      3415\n",
      "           6       0.00      0.00      0.00       110\n",
      "           7       0.00      0.00      0.00        19\n",
      "           8       0.75      0.96      0.84      1520\n",
      "           9       0.63      0.94      0.75       172\n",
      "          10       0.53      0.24      0.33        41\n",
      "          11       0.36      0.38      0.37        72\n",
      "          12       0.92      0.87      0.89       435\n",
      "          13       0.95      0.35      0.51        52\n",
      "          14       0.75      0.72      0.74     15309\n",
      "          15       0.50      0.28      0.36        46\n",
      "          16       0.61      0.25      0.36      1852\n",
      "          17       0.69      0.86      0.77     12397\n",
      "\n",
      "    accuracy                           0.71     37284\n",
      "   macro avg       0.56      0.49      0.49     37284\n",
      "weighted avg       0.70      0.71      0.69     37284\n",
      "\n",
      "Classification Report - Test Data:\n",
      "              precision    recall  f1-score   support\n",
      "\n",
      "           0       0.00      0.00      0.00        26\n",
      "           1       0.76      0.89      0.82       186\n",
      "           2       0.88      0.12      0.21       126\n",
      "           3       0.57      0.87      0.69        31\n",
      "           4       0.68      0.84      0.75       110\n",
      "           5       0.57      0.33      0.42       884\n",
      "           6       0.00      0.00      0.00        20\n",
      "           7       0.00      0.00      0.00         8\n",
      "           8       0.77      0.93      0.84       401\n",
      "           9       0.64      0.95      0.77        40\n",
      "          10       0.00      0.00      0.00        10\n",
      "          11       0.38      0.56      0.45        16\n",
      "          12       0.93      0.87      0.90       114\n",
      "          13       0.80      0.33      0.47        12\n",
      "          14       0.75      0.71      0.73      3788\n",
      "          15       0.17      0.07      0.10        14\n",
      "          16       0.68      0.26      0.38       511\n",
      "          17       0.68      0.88      0.77      3025\n",
      "\n",
      "    accuracy                           0.71      9322\n",
      "   macro avg       0.51      0.48      0.46      9322\n",
      "weighted avg       0.70      0.71      0.69      9322\n",
      "\n"
     ]
    }
   ],
   "source": [
    "# Predict on the test data\n",
    "y_pred = clf_svc.predict(X_test)\n",
    "\n",
    "# Perform predictions on test data\n",
    "y_hat = clf_svc.predict(X_test)\n",
    "\n",
    "# Perform predictions on training data\n",
    "y_train_predict = clf_svc.predict(X_train)\n",
    "\n",
    "# Evaluate the model using classification metrics\n",
    "print(\"Classification Report - Training Data:\")\n",
    "print(classification_report(y_train, y_train_predict))  # Precision, recall, F1 scores, and accuracy\n",
    "\n",
    "print(\"Classification Report - Test Data:\")\n",
    "print(classification_report(y_test, y_hat))  # Precision, recall, F1 scores, and accuracy"
   ]
  },
  {
   "cell_type": "markdown",
   "id": "5b0f4ba9",
   "metadata": {},
   "source": [
    "Model Comparison Report:\n",
    "\n",
    "Decision Tree vs. Support Vector Machine (SVM)\n",
    "\n",
    "Accuracy:\n",
    "\n",
    "Decision Tree (Training Data): 100%\n",
    "Decision Tree (Test Data): 88%\n",
    "SVM (Training Data): 71%\n",
    "SVM (Test Data): 71%\n",
    "In terms of accuracy, the Decision Tree model performs significantly better than the SVM model on both the training and test data.\n",
    "\n",
    "Precision:\n",
    "\n",
    "Decision Tree (Training Data): High precision for all classes (average weighted precision of 1.00).\n",
    "Decision Tree (Test Data): Generally high precision, but some classes have lower precision (average weighted precision of 0.88).\n",
    "SVM (Training Data): Varied precision values for different classes (average weighted precision of 0.70).\n",
    "SVM (Test Data): Varied precision values for different classes (average weighted precision of 0.70).\n",
    "The Decision Tree model achieves higher precision for most classes on both training and test data compared to the SVM.\n",
    "\n",
    "Recall:\n",
    "\n",
    "Decision Tree (Training Data): High recall for all classes (average weighted recall of 1.00).\n",
    "Decision Tree (Test Data): Generally high recall, but some classes have lower recall (average weighted recall of 0.88).\n",
    "SVM (Training Data): Varied recall values for different classes (average weighted recall of 0.71).\n",
    "SVM (Test Data): Varied recall values for different classes (average weighted recall of 0.71).\n",
    "The Decision Tree model achieves higher recall for most classes on both training and test data compared to the SVM.\n",
    "\n",
    "F1-Score:\n",
    "\n",
    "Decision Tree (Training Data): High F1-score for all classes (average weighted F1-score of 1.00).\n",
    "Decision Tree (Test Data): Generally high F1-scores, but some classes have lower scores (average weighted F1-score of 0.88).\n",
    "SVM (Training Data): Varied F1-score values for different classes (average weighted F1-score of 0.69).\n",
    "SVM (Test Data): Varied F1-score values for different classes (average weighted F1-score of 0.69).\n",
    "The Decision Tree model achieves higher F1-scores for most classes on both training and test data compared to the SVM.\n",
    "\n",
    "Summary:\n",
    "\n",
    "The Decision Tree model outperforms the Support Vector Machine (SVM) model across all performance metrics, including accuracy, precision, recall, and F1-score. The Decision Tree model demonstrates perfect accuracy, precision, recall, and F1-scores on the training data, while the SVM model lags behind in terms of precision and recall, achieving an accuracy of 71%. On the test data, the Decision Tree maintains a high level of performance, while the SVM's performance remains consistent but lower than the Decision Tree.\n",
    "\n",
    "Therefore, based on the classification reports, the Decision Tree model is the preferred choice for this classification task. However, it's important to consider other factors such as computational complexity and generalizability when choosing a model for a specific use case."
   ]
  },
  {
   "cell_type": "markdown",
   "id": "ac2e9e0f",
   "metadata": {},
   "source": [
    "# TASK 4"
   ]
  },
  {
   "cell_type": "markdown",
   "id": "2e17d609",
   "metadata": {},
   "source": [
    "### 4. Predict RFC (Request for change) and possible failure / misconfiguration of ITSM assets."
   ]
  },
  {
   "cell_type": "markdown",
   "id": "3567cb08",
   "metadata": {},
   "source": [
    "All the features are not necessary to predict No_of_Related_Changes. The following features such as 'CI_Subcat','WBS','Priority','Category','No_of_Related_Interactions','No_of_Related_Incidents'are necessary to predict 'No_of_Related_Changes'."
   ]
  },
  {
   "cell_type": "code",
   "execution_count": 55,
   "id": "834fbe8b",
   "metadata": {},
   "outputs": [],
   "source": [
    "from sklearn.preprocessing import LabelEncoder\n",
    "lc=LabelEncoder()\n",
    "# Encoding categorical variables using LabelEncoder\n",
    "df.CI_Subcat=lc.fit_transform(df.CI_Subcat)\n",
    "df.WBS=lc.fit_transform(df.WBS)\n",
    "df.Priority=lc.fit_transform(df.Priority)\n",
    "df.Category=lc.fit_transform(df.Category)\n",
    "df.No_of_Related_Interactions=lc.fit_transform(df.No_of_Related_Interactions)\n",
    "df.No_of_Related_Incidents=lc.fit_transform(df.No_of_Related_Incidents)"
   ]
  },
  {
   "cell_type": "code",
   "execution_count": 56,
   "id": "eff78030",
   "metadata": {},
   "outputs": [],
   "source": [
    "# Selecting the predictors\n",
    "X1 = df.loc[:,['CI_Subcat','WBS','Priority','Category','No_of_Related_Interactions','No_of_Related_Incidents']]\n",
    "Y1 = df.No_of_Related_Changes"
   ]
  },
  {
   "cell_type": "code",
   "execution_count": 57,
   "id": "01efe1b7",
   "metadata": {},
   "outputs": [],
   "source": [
    "## Creating training and testing data.\n",
    "from sklearn.model_selection import train_test_split\n",
    "X_train,X_test,y_train,y_test=train_test_split(X1,Y1,test_size=0.2,random_state=42)"
   ]
  },
  {
   "cell_type": "code",
   "execution_count": 58,
   "id": "c845ff37",
   "metadata": {},
   "outputs": [],
   "source": [
    "# Standardization technique is used\n",
    "sc = StandardScaler()\n",
    "X1_train = sc.fit_transform(X_train)\n",
    "X1_test = sc.transform(X_test)"
   ]
  },
  {
   "cell_type": "code",
   "execution_count": 59,
   "id": "d31219fa",
   "metadata": {},
   "outputs": [
    {
     "data": {
      "text/plain": [
       "(37284, 6)"
      ]
     },
     "execution_count": 59,
     "metadata": {},
     "output_type": "execute_result"
    }
   ],
   "source": [
    "X1_train.shape"
   ]
  },
  {
   "cell_type": "code",
   "execution_count": 60,
   "id": "7786da94",
   "metadata": {},
   "outputs": [
    {
     "data": {
      "text/plain": [
       "(9322, 6)"
      ]
     },
     "execution_count": 60,
     "metadata": {},
     "output_type": "execute_result"
    }
   ],
   "source": [
    "X1_test.shape\n"
   ]
  },
  {
   "cell_type": "markdown",
   "id": "56bce2a5",
   "metadata": {},
   "source": [
    "### LogisticRegression"
   ]
  },
  {
   "cell_type": "code",
   "execution_count": 61,
   "id": "2804cc72",
   "metadata": {},
   "outputs": [
    {
     "data": {
      "text/html": [
       "<style>#sk-container-id-7 {color: black;}#sk-container-id-7 pre{padding: 0;}#sk-container-id-7 div.sk-toggleable {background-color: white;}#sk-container-id-7 label.sk-toggleable__label {cursor: pointer;display: block;width: 100%;margin-bottom: 0;padding: 0.3em;box-sizing: border-box;text-align: center;}#sk-container-id-7 label.sk-toggleable__label-arrow:before {content: \"▸\";float: left;margin-right: 0.25em;color: #696969;}#sk-container-id-7 label.sk-toggleable__label-arrow:hover:before {color: black;}#sk-container-id-7 div.sk-estimator:hover label.sk-toggleable__label-arrow:before {color: black;}#sk-container-id-7 div.sk-toggleable__content {max-height: 0;max-width: 0;overflow: hidden;text-align: left;background-color: #f0f8ff;}#sk-container-id-7 div.sk-toggleable__content pre {margin: 0.2em;color: black;border-radius: 0.25em;background-color: #f0f8ff;}#sk-container-id-7 input.sk-toggleable__control:checked~div.sk-toggleable__content {max-height: 200px;max-width: 100%;overflow: auto;}#sk-container-id-7 input.sk-toggleable__control:checked~label.sk-toggleable__label-arrow:before {content: \"▾\";}#sk-container-id-7 div.sk-estimator input.sk-toggleable__control:checked~label.sk-toggleable__label {background-color: #d4ebff;}#sk-container-id-7 div.sk-label input.sk-toggleable__control:checked~label.sk-toggleable__label {background-color: #d4ebff;}#sk-container-id-7 input.sk-hidden--visually {border: 0;clip: rect(1px 1px 1px 1px);clip: rect(1px, 1px, 1px, 1px);height: 1px;margin: -1px;overflow: hidden;padding: 0;position: absolute;width: 1px;}#sk-container-id-7 div.sk-estimator {font-family: monospace;background-color: #f0f8ff;border: 1px dotted black;border-radius: 0.25em;box-sizing: border-box;margin-bottom: 0.5em;}#sk-container-id-7 div.sk-estimator:hover {background-color: #d4ebff;}#sk-container-id-7 div.sk-parallel-item::after {content: \"\";width: 100%;border-bottom: 1px solid gray;flex-grow: 1;}#sk-container-id-7 div.sk-label:hover label.sk-toggleable__label {background-color: #d4ebff;}#sk-container-id-7 div.sk-serial::before {content: \"\";position: absolute;border-left: 1px solid gray;box-sizing: border-box;top: 0;bottom: 0;left: 50%;z-index: 0;}#sk-container-id-7 div.sk-serial {display: flex;flex-direction: column;align-items: center;background-color: white;padding-right: 0.2em;padding-left: 0.2em;position: relative;}#sk-container-id-7 div.sk-item {position: relative;z-index: 1;}#sk-container-id-7 div.sk-parallel {display: flex;align-items: stretch;justify-content: center;background-color: white;position: relative;}#sk-container-id-7 div.sk-item::before, #sk-container-id-7 div.sk-parallel-item::before {content: \"\";position: absolute;border-left: 1px solid gray;box-sizing: border-box;top: 0;bottom: 0;left: 50%;z-index: -1;}#sk-container-id-7 div.sk-parallel-item {display: flex;flex-direction: column;z-index: 1;position: relative;background-color: white;}#sk-container-id-7 div.sk-parallel-item:first-child::after {align-self: flex-end;width: 50%;}#sk-container-id-7 div.sk-parallel-item:last-child::after {align-self: flex-start;width: 50%;}#sk-container-id-7 div.sk-parallel-item:only-child::after {width: 0;}#sk-container-id-7 div.sk-dashed-wrapped {border: 1px dashed gray;margin: 0 0.4em 0.5em 0.4em;box-sizing: border-box;padding-bottom: 0.4em;background-color: white;}#sk-container-id-7 div.sk-label label {font-family: monospace;font-weight: bold;display: inline-block;line-height: 1.2em;}#sk-container-id-7 div.sk-label-container {text-align: center;}#sk-container-id-7 div.sk-container {/* jupyter's `normalize.less` sets `[hidden] { display: none; }` but bootstrap.min.css set `[hidden] { display: none !important; }` so we also need the `!important` here to be able to override the default hidden behavior on the sphinx rendered scikit-learn.org. See: https://github.com/scikit-learn/scikit-learn/issues/21755 */display: inline-block !important;position: relative;}#sk-container-id-7 div.sk-text-repr-fallback {display: none;}</style><div id=\"sk-container-id-7\" class=\"sk-top-container\"><div class=\"sk-text-repr-fallback\"><pre>LogisticRegression()</pre><b>In a Jupyter environment, please rerun this cell to show the HTML representation or trust the notebook. <br />On GitHub, the HTML representation is unable to render, please try loading this page with nbviewer.org.</b></div><div class=\"sk-container\" hidden><div class=\"sk-item\"><div class=\"sk-estimator sk-toggleable\"><input class=\"sk-toggleable__control sk-hidden--visually\" id=\"sk-estimator-id-7\" type=\"checkbox\" checked><label for=\"sk-estimator-id-7\" class=\"sk-toggleable__label sk-toggleable__label-arrow\">LogisticRegression</label><div class=\"sk-toggleable__content\"><pre>LogisticRegression()</pre></div></div></div></div></div>"
      ],
      "text/plain": [
       "LogisticRegression()"
      ]
     },
     "execution_count": 61,
     "metadata": {},
     "output_type": "execute_result"
    }
   ],
   "source": [
    "from sklearn.linear_model import LogisticRegression\n",
    "from sklearn.metrics import accuracy_score, classification_report, f1_score\n",
    "\n",
    "# Create a Logistic Regression classifier\n",
    "clf = LogisticRegression()\n",
    "\n",
    "# Train the classifier on the training data\n",
    "clf.fit(X_train, y_train)"
   ]
  },
  {
   "cell_type": "code",
   "execution_count": 62,
   "id": "8b0a5f55",
   "metadata": {},
   "outputs": [
    {
     "name": "stdout",
     "output_type": "stream",
     "text": [
      "Classification Report - Training Data:\n",
      "              precision    recall  f1-score   support\n",
      "\n",
      "                   0.99      1.00      0.99     36824\n",
      "           1       0.00      0.00      0.00       442\n",
      "           2       0.00      0.00      0.00        16\n",
      "           3       0.00      0.00      0.00         1\n",
      "           9       0.00      0.00      0.00         1\n",
      "\n",
      "    accuracy                           0.99     37284\n",
      "   macro avg       0.20      0.20      0.20     37284\n",
      "weighted avg       0.98      0.99      0.98     37284\n",
      "\n",
      "Classification Report - Test Data:\n",
      "              precision    recall  f1-score   support\n",
      "\n",
      "                   0.99      1.00      0.99      9222\n",
      "           1       0.00      0.00      0.00        94\n",
      "           2       0.00      0.00      0.00         5\n",
      "           3       0.00      0.00      0.00         1\n",
      "\n",
      "    accuracy                           0.99      9322\n",
      "   macro avg       0.25      0.25      0.25      9322\n",
      "weighted avg       0.98      0.99      0.98      9322\n",
      "\n"
     ]
    }
   ],
   "source": [
    "# Predict on the test data\n",
    "y_pred = clf.predict(X_test)\n",
    "\n",
    "# Perform predictions on test data\n",
    "y_hat = clf.predict(X_test)\n",
    "\n",
    "# Perform predictions on training data\n",
    "y_train_predict = clf.predict(X_train)\n",
    "# Evaluate the model using classification metrics\n",
    "print(\"Classification Report - Training Data:\")\n",
    "print(classification_report(y_train, y_train_predict))  # Precision, recall, F1 scores, and accuracy\n",
    "\n",
    "print(\"Classification Report - Test Data:\")\n",
    "print(classification_report(y_test, y_hat))  # Precision, recall, F1 scores, and accuracy"
   ]
  },
  {
   "cell_type": "markdown",
   "id": "7bad99a1",
   "metadata": {},
   "source": [
    "### DecisionTree"
   ]
  },
  {
   "cell_type": "code",
   "execution_count": 63,
   "id": "32d4aa1f",
   "metadata": {},
   "outputs": [
    {
     "data": {
      "text/html": [
       "<style>#sk-container-id-8 {color: black;}#sk-container-id-8 pre{padding: 0;}#sk-container-id-8 div.sk-toggleable {background-color: white;}#sk-container-id-8 label.sk-toggleable__label {cursor: pointer;display: block;width: 100%;margin-bottom: 0;padding: 0.3em;box-sizing: border-box;text-align: center;}#sk-container-id-8 label.sk-toggleable__label-arrow:before {content: \"▸\";float: left;margin-right: 0.25em;color: #696969;}#sk-container-id-8 label.sk-toggleable__label-arrow:hover:before {color: black;}#sk-container-id-8 div.sk-estimator:hover label.sk-toggleable__label-arrow:before {color: black;}#sk-container-id-8 div.sk-toggleable__content {max-height: 0;max-width: 0;overflow: hidden;text-align: left;background-color: #f0f8ff;}#sk-container-id-8 div.sk-toggleable__content pre {margin: 0.2em;color: black;border-radius: 0.25em;background-color: #f0f8ff;}#sk-container-id-8 input.sk-toggleable__control:checked~div.sk-toggleable__content {max-height: 200px;max-width: 100%;overflow: auto;}#sk-container-id-8 input.sk-toggleable__control:checked~label.sk-toggleable__label-arrow:before {content: \"▾\";}#sk-container-id-8 div.sk-estimator input.sk-toggleable__control:checked~label.sk-toggleable__label {background-color: #d4ebff;}#sk-container-id-8 div.sk-label input.sk-toggleable__control:checked~label.sk-toggleable__label {background-color: #d4ebff;}#sk-container-id-8 input.sk-hidden--visually {border: 0;clip: rect(1px 1px 1px 1px);clip: rect(1px, 1px, 1px, 1px);height: 1px;margin: -1px;overflow: hidden;padding: 0;position: absolute;width: 1px;}#sk-container-id-8 div.sk-estimator {font-family: monospace;background-color: #f0f8ff;border: 1px dotted black;border-radius: 0.25em;box-sizing: border-box;margin-bottom: 0.5em;}#sk-container-id-8 div.sk-estimator:hover {background-color: #d4ebff;}#sk-container-id-8 div.sk-parallel-item::after {content: \"\";width: 100%;border-bottom: 1px solid gray;flex-grow: 1;}#sk-container-id-8 div.sk-label:hover label.sk-toggleable__label {background-color: #d4ebff;}#sk-container-id-8 div.sk-serial::before {content: \"\";position: absolute;border-left: 1px solid gray;box-sizing: border-box;top: 0;bottom: 0;left: 50%;z-index: 0;}#sk-container-id-8 div.sk-serial {display: flex;flex-direction: column;align-items: center;background-color: white;padding-right: 0.2em;padding-left: 0.2em;position: relative;}#sk-container-id-8 div.sk-item {position: relative;z-index: 1;}#sk-container-id-8 div.sk-parallel {display: flex;align-items: stretch;justify-content: center;background-color: white;position: relative;}#sk-container-id-8 div.sk-item::before, #sk-container-id-8 div.sk-parallel-item::before {content: \"\";position: absolute;border-left: 1px solid gray;box-sizing: border-box;top: 0;bottom: 0;left: 50%;z-index: -1;}#sk-container-id-8 div.sk-parallel-item {display: flex;flex-direction: column;z-index: 1;position: relative;background-color: white;}#sk-container-id-8 div.sk-parallel-item:first-child::after {align-self: flex-end;width: 50%;}#sk-container-id-8 div.sk-parallel-item:last-child::after {align-self: flex-start;width: 50%;}#sk-container-id-8 div.sk-parallel-item:only-child::after {width: 0;}#sk-container-id-8 div.sk-dashed-wrapped {border: 1px dashed gray;margin: 0 0.4em 0.5em 0.4em;box-sizing: border-box;padding-bottom: 0.4em;background-color: white;}#sk-container-id-8 div.sk-label label {font-family: monospace;font-weight: bold;display: inline-block;line-height: 1.2em;}#sk-container-id-8 div.sk-label-container {text-align: center;}#sk-container-id-8 div.sk-container {/* jupyter's `normalize.less` sets `[hidden] { display: none; }` but bootstrap.min.css set `[hidden] { display: none !important; }` so we also need the `!important` here to be able to override the default hidden behavior on the sphinx rendered scikit-learn.org. See: https://github.com/scikit-learn/scikit-learn/issues/21755 */display: inline-block !important;position: relative;}#sk-container-id-8 div.sk-text-repr-fallback {display: none;}</style><div id=\"sk-container-id-8\" class=\"sk-top-container\"><div class=\"sk-text-repr-fallback\"><pre>DecisionTreeClassifier()</pre><b>In a Jupyter environment, please rerun this cell to show the HTML representation or trust the notebook. <br />On GitHub, the HTML representation is unable to render, please try loading this page with nbviewer.org.</b></div><div class=\"sk-container\" hidden><div class=\"sk-item\"><div class=\"sk-estimator sk-toggleable\"><input class=\"sk-toggleable__control sk-hidden--visually\" id=\"sk-estimator-id-8\" type=\"checkbox\" checked><label for=\"sk-estimator-id-8\" class=\"sk-toggleable__label sk-toggleable__label-arrow\">DecisionTreeClassifier</label><div class=\"sk-toggleable__content\"><pre>DecisionTreeClassifier()</pre></div></div></div></div></div>"
      ],
      "text/plain": [
       "DecisionTreeClassifier()"
      ]
     },
     "execution_count": 63,
     "metadata": {},
     "output_type": "execute_result"
    }
   ],
   "source": [
    "from sklearn.tree import DecisionTreeClassifier\n",
    "from sklearn.metrics import accuracy_score, classification_report, f1_score\n",
    "\n",
    "# Create a Decision Tree classifier\n",
    "clf_dt = DecisionTreeClassifier()\n",
    "\n",
    "# Train the classifier on the training data\n",
    "clf_dt.fit(X_train, y_train)"
   ]
  },
  {
   "cell_type": "code",
   "execution_count": 64,
   "id": "d494f777",
   "metadata": {},
   "outputs": [
    {
     "name": "stdout",
     "output_type": "stream",
     "text": [
      "Decision Tree - Classification Report - Training Data:\n",
      "              precision    recall  f1-score   support\n",
      "\n",
      "                   0.99      1.00      0.99     36824\n",
      "           1       0.92      0.17      0.28       442\n",
      "           2       1.00      0.06      0.12        16\n",
      "           3       0.00      0.00      0.00         1\n",
      "           9       1.00      1.00      1.00         1\n",
      "\n",
      "    accuracy                           0.99     37284\n",
      "   macro avg       0.78      0.45      0.48     37284\n",
      "weighted avg       0.99      0.99      0.99     37284\n",
      "\n",
      "Decision Tree - Classification Report - Test Data:\n",
      "              precision    recall  f1-score   support\n",
      "\n",
      "                   0.99      1.00      0.99      9222\n",
      "           1       0.00      0.00      0.00        94\n",
      "           2       0.00      0.00      0.00         5\n",
      "           3       0.00      0.00      0.00         1\n",
      "\n",
      "    accuracy                           0.99      9322\n",
      "   macro avg       0.25      0.25      0.25      9322\n",
      "weighted avg       0.98      0.99      0.98      9322\n",
      "\n"
     ]
    }
   ],
   "source": [
    "# Predict on the test data\n",
    "y_pred_dt = clf_dt.predict(X_test)\n",
    "\n",
    "# Perform predictions on training data\n",
    "y_train_predict_dt = clf_dt.predict(X_train)\n",
    "\n",
    "# Evaluate the Decision Tree model using classification metrics\n",
    "print(\"Decision Tree - Classification Report - Training Data:\")\n",
    "print(classification_report(y_train, y_train_predict_dt))  # Precision, recall, F1 scores, and accuracy\n",
    "\n",
    "print(\"Decision Tree - Classification Report - Test Data:\")\n",
    "print(classification_report(y_test, y_pred_dt))  # Precision, recall, F1 scores, and accuracy"
   ]
  },
  {
   "cell_type": "markdown",
   "id": "4133650b",
   "metadata": {},
   "source": [
    "### Support Vector Machine"
   ]
  },
  {
   "cell_type": "code",
   "execution_count": 65,
   "id": "d942ebc0",
   "metadata": {},
   "outputs": [
    {
     "data": {
      "text/html": [
       "<style>#sk-container-id-9 {color: black;}#sk-container-id-9 pre{padding: 0;}#sk-container-id-9 div.sk-toggleable {background-color: white;}#sk-container-id-9 label.sk-toggleable__label {cursor: pointer;display: block;width: 100%;margin-bottom: 0;padding: 0.3em;box-sizing: border-box;text-align: center;}#sk-container-id-9 label.sk-toggleable__label-arrow:before {content: \"▸\";float: left;margin-right: 0.25em;color: #696969;}#sk-container-id-9 label.sk-toggleable__label-arrow:hover:before {color: black;}#sk-container-id-9 div.sk-estimator:hover label.sk-toggleable__label-arrow:before {color: black;}#sk-container-id-9 div.sk-toggleable__content {max-height: 0;max-width: 0;overflow: hidden;text-align: left;background-color: #f0f8ff;}#sk-container-id-9 div.sk-toggleable__content pre {margin: 0.2em;color: black;border-radius: 0.25em;background-color: #f0f8ff;}#sk-container-id-9 input.sk-toggleable__control:checked~div.sk-toggleable__content {max-height: 200px;max-width: 100%;overflow: auto;}#sk-container-id-9 input.sk-toggleable__control:checked~label.sk-toggleable__label-arrow:before {content: \"▾\";}#sk-container-id-9 div.sk-estimator input.sk-toggleable__control:checked~label.sk-toggleable__label {background-color: #d4ebff;}#sk-container-id-9 div.sk-label input.sk-toggleable__control:checked~label.sk-toggleable__label {background-color: #d4ebff;}#sk-container-id-9 input.sk-hidden--visually {border: 0;clip: rect(1px 1px 1px 1px);clip: rect(1px, 1px, 1px, 1px);height: 1px;margin: -1px;overflow: hidden;padding: 0;position: absolute;width: 1px;}#sk-container-id-9 div.sk-estimator {font-family: monospace;background-color: #f0f8ff;border: 1px dotted black;border-radius: 0.25em;box-sizing: border-box;margin-bottom: 0.5em;}#sk-container-id-9 div.sk-estimator:hover {background-color: #d4ebff;}#sk-container-id-9 div.sk-parallel-item::after {content: \"\";width: 100%;border-bottom: 1px solid gray;flex-grow: 1;}#sk-container-id-9 div.sk-label:hover label.sk-toggleable__label {background-color: #d4ebff;}#sk-container-id-9 div.sk-serial::before {content: \"\";position: absolute;border-left: 1px solid gray;box-sizing: border-box;top: 0;bottom: 0;left: 50%;z-index: 0;}#sk-container-id-9 div.sk-serial {display: flex;flex-direction: column;align-items: center;background-color: white;padding-right: 0.2em;padding-left: 0.2em;position: relative;}#sk-container-id-9 div.sk-item {position: relative;z-index: 1;}#sk-container-id-9 div.sk-parallel {display: flex;align-items: stretch;justify-content: center;background-color: white;position: relative;}#sk-container-id-9 div.sk-item::before, #sk-container-id-9 div.sk-parallel-item::before {content: \"\";position: absolute;border-left: 1px solid gray;box-sizing: border-box;top: 0;bottom: 0;left: 50%;z-index: -1;}#sk-container-id-9 div.sk-parallel-item {display: flex;flex-direction: column;z-index: 1;position: relative;background-color: white;}#sk-container-id-9 div.sk-parallel-item:first-child::after {align-self: flex-end;width: 50%;}#sk-container-id-9 div.sk-parallel-item:last-child::after {align-self: flex-start;width: 50%;}#sk-container-id-9 div.sk-parallel-item:only-child::after {width: 0;}#sk-container-id-9 div.sk-dashed-wrapped {border: 1px dashed gray;margin: 0 0.4em 0.5em 0.4em;box-sizing: border-box;padding-bottom: 0.4em;background-color: white;}#sk-container-id-9 div.sk-label label {font-family: monospace;font-weight: bold;display: inline-block;line-height: 1.2em;}#sk-container-id-9 div.sk-label-container {text-align: center;}#sk-container-id-9 div.sk-container {/* jupyter's `normalize.less` sets `[hidden] { display: none; }` but bootstrap.min.css set `[hidden] { display: none !important; }` so we also need the `!important` here to be able to override the default hidden behavior on the sphinx rendered scikit-learn.org. See: https://github.com/scikit-learn/scikit-learn/issues/21755 */display: inline-block !important;position: relative;}#sk-container-id-9 div.sk-text-repr-fallback {display: none;}</style><div id=\"sk-container-id-9\" class=\"sk-top-container\"><div class=\"sk-text-repr-fallback\"><pre>SVC()</pre><b>In a Jupyter environment, please rerun this cell to show the HTML representation or trust the notebook. <br />On GitHub, the HTML representation is unable to render, please try loading this page with nbviewer.org.</b></div><div class=\"sk-container\" hidden><div class=\"sk-item\"><div class=\"sk-estimator sk-toggleable\"><input class=\"sk-toggleable__control sk-hidden--visually\" id=\"sk-estimator-id-9\" type=\"checkbox\" checked><label for=\"sk-estimator-id-9\" class=\"sk-toggleable__label sk-toggleable__label-arrow\">SVC</label><div class=\"sk-toggleable__content\"><pre>SVC()</pre></div></div></div></div></div>"
      ],
      "text/plain": [
       "SVC()"
      ]
     },
     "execution_count": 65,
     "metadata": {},
     "output_type": "execute_result"
    }
   ],
   "source": [
    "from sklearn.svm import SVC\n",
    "from sklearn.metrics import accuracy_score, classification_report, f1_score,precision_score,recall_score\n",
    "\n",
    "# Create an SVM classifier\n",
    "clf_svc = SVC()\n",
    "\n",
    "# Train the classifier on the training data\n",
    "clf_svc.fit(X_train, y_train)"
   ]
  },
  {
   "cell_type": "code",
   "execution_count": 66,
   "id": "0ef179cd",
   "metadata": {},
   "outputs": [
    {
     "name": "stdout",
     "output_type": "stream",
     "text": [
      "Classification Report - Training Data:\n",
      "              precision    recall  f1-score   support\n",
      "\n",
      "                   0.99      1.00      0.99     36824\n",
      "           1       0.00      0.00      0.00       442\n",
      "           2       0.00      0.00      0.00        16\n",
      "           3       0.00      0.00      0.00         1\n",
      "           9       0.00      0.00      0.00         1\n",
      "\n",
      "    accuracy                           0.99     37284\n",
      "   macro avg       0.20      0.20      0.20     37284\n",
      "weighted avg       0.98      0.99      0.98     37284\n",
      "\n",
      "Classification Report - Test Data:\n",
      "              precision    recall  f1-score   support\n",
      "\n",
      "                   0.99      1.00      0.99      9222\n",
      "           1       0.00      0.00      0.00        94\n",
      "           2       0.00      0.00      0.00         5\n",
      "           3       0.00      0.00      0.00         1\n",
      "\n",
      "    accuracy                           0.99      9322\n",
      "   macro avg       0.25      0.25      0.25      9322\n",
      "weighted avg       0.98      0.99      0.98      9322\n",
      "\n"
     ]
    }
   ],
   "source": [
    "# Predict on the test data\n",
    "y_pred = clf_svc.predict(X_test)\n",
    "\n",
    "# Perform predictions on test data\n",
    "y_hat = clf_svc.predict(X_test)\n",
    "\n",
    "# Perform predictions on training data\n",
    "y_train_predict = clf_svc.predict(X_train)\n",
    "\n",
    "# Evaluate the model using classification metrics\n",
    "print(\"Classification Report - Training Data:\")\n",
    "print(classification_report(y_train, y_train_predict))  # Precision, recall, F1 scores, and accuracy\n",
    "\n",
    "print(\"Classification Report - Test Data:\")\n",
    "print(classification_report(y_test, y_hat))  # Precision, recall, F1 scores, and accuracy"
   ]
  },
  {
   "cell_type": "markdown",
   "id": "2cfb12d3",
   "metadata": {},
   "source": [
    "### RandomForest"
   ]
  },
  {
   "cell_type": "code",
   "execution_count": 67,
   "id": "53b19c5a",
   "metadata": {},
   "outputs": [
    {
     "data": {
      "text/html": [
       "<style>#sk-container-id-10 {color: black;}#sk-container-id-10 pre{padding: 0;}#sk-container-id-10 div.sk-toggleable {background-color: white;}#sk-container-id-10 label.sk-toggleable__label {cursor: pointer;display: block;width: 100%;margin-bottom: 0;padding: 0.3em;box-sizing: border-box;text-align: center;}#sk-container-id-10 label.sk-toggleable__label-arrow:before {content: \"▸\";float: left;margin-right: 0.25em;color: #696969;}#sk-container-id-10 label.sk-toggleable__label-arrow:hover:before {color: black;}#sk-container-id-10 div.sk-estimator:hover label.sk-toggleable__label-arrow:before {color: black;}#sk-container-id-10 div.sk-toggleable__content {max-height: 0;max-width: 0;overflow: hidden;text-align: left;background-color: #f0f8ff;}#sk-container-id-10 div.sk-toggleable__content pre {margin: 0.2em;color: black;border-radius: 0.25em;background-color: #f0f8ff;}#sk-container-id-10 input.sk-toggleable__control:checked~div.sk-toggleable__content {max-height: 200px;max-width: 100%;overflow: auto;}#sk-container-id-10 input.sk-toggleable__control:checked~label.sk-toggleable__label-arrow:before {content: \"▾\";}#sk-container-id-10 div.sk-estimator input.sk-toggleable__control:checked~label.sk-toggleable__label {background-color: #d4ebff;}#sk-container-id-10 div.sk-label input.sk-toggleable__control:checked~label.sk-toggleable__label {background-color: #d4ebff;}#sk-container-id-10 input.sk-hidden--visually {border: 0;clip: rect(1px 1px 1px 1px);clip: rect(1px, 1px, 1px, 1px);height: 1px;margin: -1px;overflow: hidden;padding: 0;position: absolute;width: 1px;}#sk-container-id-10 div.sk-estimator {font-family: monospace;background-color: #f0f8ff;border: 1px dotted black;border-radius: 0.25em;box-sizing: border-box;margin-bottom: 0.5em;}#sk-container-id-10 div.sk-estimator:hover {background-color: #d4ebff;}#sk-container-id-10 div.sk-parallel-item::after {content: \"\";width: 100%;border-bottom: 1px solid gray;flex-grow: 1;}#sk-container-id-10 div.sk-label:hover label.sk-toggleable__label {background-color: #d4ebff;}#sk-container-id-10 div.sk-serial::before {content: \"\";position: absolute;border-left: 1px solid gray;box-sizing: border-box;top: 0;bottom: 0;left: 50%;z-index: 0;}#sk-container-id-10 div.sk-serial {display: flex;flex-direction: column;align-items: center;background-color: white;padding-right: 0.2em;padding-left: 0.2em;position: relative;}#sk-container-id-10 div.sk-item {position: relative;z-index: 1;}#sk-container-id-10 div.sk-parallel {display: flex;align-items: stretch;justify-content: center;background-color: white;position: relative;}#sk-container-id-10 div.sk-item::before, #sk-container-id-10 div.sk-parallel-item::before {content: \"\";position: absolute;border-left: 1px solid gray;box-sizing: border-box;top: 0;bottom: 0;left: 50%;z-index: -1;}#sk-container-id-10 div.sk-parallel-item {display: flex;flex-direction: column;z-index: 1;position: relative;background-color: white;}#sk-container-id-10 div.sk-parallel-item:first-child::after {align-self: flex-end;width: 50%;}#sk-container-id-10 div.sk-parallel-item:last-child::after {align-self: flex-start;width: 50%;}#sk-container-id-10 div.sk-parallel-item:only-child::after {width: 0;}#sk-container-id-10 div.sk-dashed-wrapped {border: 1px dashed gray;margin: 0 0.4em 0.5em 0.4em;box-sizing: border-box;padding-bottom: 0.4em;background-color: white;}#sk-container-id-10 div.sk-label label {font-family: monospace;font-weight: bold;display: inline-block;line-height: 1.2em;}#sk-container-id-10 div.sk-label-container {text-align: center;}#sk-container-id-10 div.sk-container {/* jupyter's `normalize.less` sets `[hidden] { display: none; }` but bootstrap.min.css set `[hidden] { display: none !important; }` so we also need the `!important` here to be able to override the default hidden behavior on the sphinx rendered scikit-learn.org. See: https://github.com/scikit-learn/scikit-learn/issues/21755 */display: inline-block !important;position: relative;}#sk-container-id-10 div.sk-text-repr-fallback {display: none;}</style><div id=\"sk-container-id-10\" class=\"sk-top-container\"><div class=\"sk-text-repr-fallback\"><pre>RandomForestClassifier()</pre><b>In a Jupyter environment, please rerun this cell to show the HTML representation or trust the notebook. <br />On GitHub, the HTML representation is unable to render, please try loading this page with nbviewer.org.</b></div><div class=\"sk-container\" hidden><div class=\"sk-item\"><div class=\"sk-estimator sk-toggleable\"><input class=\"sk-toggleable__control sk-hidden--visually\" id=\"sk-estimator-id-10\" type=\"checkbox\" checked><label for=\"sk-estimator-id-10\" class=\"sk-toggleable__label sk-toggleable__label-arrow\">RandomForestClassifier</label><div class=\"sk-toggleable__content\"><pre>RandomForestClassifier()</pre></div></div></div></div></div>"
      ],
      "text/plain": [
       "RandomForestClassifier()"
      ]
     },
     "execution_count": 67,
     "metadata": {},
     "output_type": "execute_result"
    }
   ],
   "source": [
    "from sklearn.ensemble import RandomForestClassifier\n",
    "from sklearn.metrics import accuracy_score, classification_report, f1_score, precision_score, recall_score\n",
    "\n",
    "# Create a Random Forest classifier\n",
    "clf_rf = RandomForestClassifier()\n",
    "\n",
    "# Train the classifier on the training data\n",
    "clf_rf.fit(X_train, y_train)\n"
   ]
  },
  {
   "cell_type": "code",
   "execution_count": 68,
   "id": "db4506d7",
   "metadata": {},
   "outputs": [
    {
     "name": "stdout",
     "output_type": "stream",
     "text": [
      "Classification Report - Training Data:\n",
      "              precision    recall  f1-score   support\n",
      "\n",
      "                   0.99      1.00      0.99     36824\n",
      "           1       0.91      0.17      0.28       442\n",
      "           2       1.00      0.06      0.12        16\n",
      "           3       0.00      0.00      0.00         1\n",
      "           9       1.00      1.00      1.00         1\n",
      "\n",
      "    accuracy                           0.99     37284\n",
      "   macro avg       0.78      0.45      0.48     37284\n",
      "weighted avg       0.99      0.99      0.99     37284\n",
      "\n",
      "Classification Report - Test Data:\n",
      "              precision    recall  f1-score   support\n",
      "\n",
      "                   0.99      1.00      0.99      9222\n",
      "           1       0.00      0.00      0.00        94\n",
      "           2       0.00      0.00      0.00         5\n",
      "           3       0.00      0.00      0.00         1\n",
      "\n",
      "    accuracy                           0.99      9322\n",
      "   macro avg       0.25      0.25      0.25      9322\n",
      "weighted avg       0.98      0.99      0.98      9322\n",
      "\n"
     ]
    }
   ],
   "source": [
    "# Predict on the test data\n",
    "y_pred = clf_rf.predict(X_test)\n",
    "\n",
    "# Perform predictions on test data\n",
    "y_hat = clf_rf.predict(X_test)\n",
    "\n",
    "# Perform predictions on training data\n",
    "y_train_predict = clf_rf.predict(X_train)\n",
    "\n",
    "# Evaluate the model using classification metrics\n",
    "print(\"Classification Report - Training Data:\")\n",
    "print(classification_report(y_train, y_train_predict))  # Precision, recall, F1 scores, and accuracy\n",
    "\n",
    "print(\"Classification Report - Test Data:\")\n",
    "print(classification_report(y_test, y_hat))  # Precision, recall, F1 scores, and accuracy"
   ]
  },
  {
   "cell_type": "markdown",
   "id": "fb1fc8ec",
   "metadata": {},
   "source": [
    "## MODEL COMPARISION REPORT"
   ]
  },
  {
   "cell_type": "markdown",
   "id": "b04b8f5c",
   "metadata": {},
   "source": [
    "Model Comparison Report:\n",
    "\n",
    "Logistic Regression:\n",
    "\n",
    "Training Data:\n",
    "Accuracy: 0.99\n",
    "F1-score (macro avg): 0.20\n",
    "F1-score (weighted avg): 0.98\n",
    "Test Data:\n",
    "Accuracy: 0.99\n",
    "F1-score (macro avg): 0.25\n",
    "F1-score (weighted avg): 0.98\n",
    "Decision Tree:\n",
    "\n",
    "Training Data:\n",
    "Accuracy: 0.99\n",
    "F1-score (macro avg): 0.48\n",
    "F1-score (weighted avg): 0.99\n",
    "Test Data:\n",
    "Accuracy: 0.99\n",
    "F1-score (macro avg): 0.25\n",
    "F1-score (weighted avg): 0.98\n",
    "Support Vector Machine:\n",
    "\n",
    "Training Data:\n",
    "Accuracy: 0.99\n",
    "F1-score (macro avg): 0.20\n",
    "F1-score (weighted avg): 0.98\n",
    "Test Data:\n",
    "Accuracy: 0.99\n",
    "F1-score (macro avg): 0.25\n",
    "F1-score (weighted avg): 0.98\n",
    "Random Forest:\n",
    "\n",
    "Training Data:\n",
    "Accuracy: 0.99\n",
    "F1-score (macro avg): 0.48\n",
    "F1-score (weighted avg): 0.99\n",
    "Test Data:\n",
    "Accuracy: 0.99\n",
    "F1-score (macro avg): 0.25\n",
    "F1-score (weighted avg): 0.98\n",
    "Based on the classification reports and evaluation metrics, it appears that all four models (Logistic Regression, Decision Tree, Support Vector Machine, and Random Forest) have very similar performance on both the training and test data. They all have high accuracy (0.99) but struggle with low recall and F1-scores for certain classes, particularly for class 1, class 2, and class 3.\n",
    "\n",
    "Considering the similarities in their performance, the choice of the best model to implement may depend on factors such as model interpretability, computational resources, and training time. "
   ]
  },
  {
   "cell_type": "markdown",
   "id": "ae408977",
   "metadata": {},
   "source": [
    "# Conclusion and Report on Challenges faced"
   ]
  },
  {
   "cell_type": "markdown",
   "id": "394fbce8",
   "metadata": {},
   "source": [
    "Here is an overview of solution and challenges faced for the given dataset:\n",
    "\n",
    "Task 1: Predicting High Priority Tickets\n",
    "\n",
    "Goal: Predict priority 1 and 2 tickets to take preventive measures or fix problems early.\n",
    "Recommended Models: Decision Tree, SVM, and Random Forest Classifier.\n",
    "Conclusion: These models are well-suited for classification tasks like predicting high-priority tickets. They can help in identifying critical issues before they escalate.\n",
    "\n",
    "Task 2: Forecasting Incident Volume\n",
    "\n",
    "Goal: Forecast incident volume in different fields quarterly and annually.\n",
    "Challenge: Limited data (3 years or 12 quarters) makes accurate quarterly and annual forecasts challenging.\n",
    "Conclusion: More data is needed to create reliable forecasts. Consider exploring alternative approaches such as smoothing techniques or time series analysis with the available data.\n",
    "\n",
    "Task 3: Auto-tagging Tickets\n",
    "\n",
    "Goal: Auto-tag tickets with the right priorities and departments to reduce reassignment and delays.\n",
    "Recommended Model: Decision Tree for classification.\n",
    "Conclusion: Decision trees are a suitable choice for auto-tagging tasks. They can help streamline ticket handling and reduce response times.\n",
    "\n",
    "Task 4: Predicting RFC and Asset Failures\n",
    "\n",
    "Goal: Predict RFC (request for change) and possible failure or misconfiguration of ITSM assets.\n",
    "Recommended Models: Logistic Regression, Decision Trees, Support Vector Machines, and Random Forest.\n",
    "Conclusion: These models are effective for anomaly detection and classification tasks related to ITSM asset management. They can help in identifying potential issues with RFCs and asset configurations.\n",
    "\n",
    "In summary, the choice of models for each task seems appropriate based on the nature of the problem. However, the success of these models will depend on various factors, including data quality, feature engineering, and model tuning. It's crucial to continuously evaluate and refine the models as more data becomes available and the organization's needs evolve. Additionally, for Task 2, it's important to consider the limitations of the available data and explore alternative forecasting methods.\n"
   ]
  }
 ],
 "metadata": {
  "kernelspec": {
   "display_name": "Python 3 (ipykernel)",
   "language": "python",
   "name": "python3"
  },
  "language_info": {
   "codemirror_mode": {
    "name": "ipython",
    "version": 3
   },
   "file_extension": ".py",
   "mimetype": "text/x-python",
   "name": "python",
   "nbconvert_exporter": "python",
   "pygments_lexer": "ipython3",
   "version": "3.11.4"
  }
 },
 "nbformat": 4,
 "nbformat_minor": 5
}
